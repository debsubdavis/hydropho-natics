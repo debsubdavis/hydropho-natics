{
 "cells": [
  {
   "cell_type": "markdown",
   "id": "3553a4e4",
   "metadata": {},
   "source": [
    "## Purpose\n",
    "\n",
    "The purpose of this code is to return a csv containg rows with each image, its filepath, and its most recent JSON annotation file path. This code is necessary because images have been annotated multiple times and will be used to move the approrpriate images and json files to the labeling software/blob storage/etc.\n",
    "\n",
    "Input(s):\n",
    "1. String of file path to annotation JSON files. Variable initialized to path to \"Annotation Stuff\" on Chris-generated external hard drive. Code written to accept user input but commented out due to current ipynb format. In the event that this file becomes a .py file it can be uncommented.\n",
    "2. String of file path to output csv save location. Variable initialized to current directory. Code written to accept user input but commented out due to current ipynb format. In the event that this file becomes a .py file it can be uncommented.\n",
    "\n",
    "Output(s):\n",
    "1. CSV file with each row corresponding to a unique image file with the following columns: image file name, image file path, JSON file path\n",
    "    \n",
    "We will being by importing standard python libraries."
   ]
  },
  {
   "cell_type": "code",
   "execution_count": 2,
   "id": "a7727888",
   "metadata": {},
   "outputs": [],
   "source": [
    "import os\n",
    "import pandas as pd"
   ]
  },
  {
   "cell_type": "markdown",
   "id": "2eba6f95",
   "metadata": {},
   "source": [
    "First we will define some constants for use in this code - namely the directory containing the image annotation files. The block of code commented out accepts user input in the event this becomes a .py file rather than .ipynb file."
   ]
  },
  {
   "cell_type": "code",
   "execution_count": 3,
   "id": "69e9e5e6",
   "metadata": {},
   "outputs": [],
   "source": [
    "#Constants of file paths & final data frame name\n",
    "annotation_path = 'D:/Annotation Stuff/'\n",
    "save_path = './'\n",
    "image_annotation_df = pd.DataFrame()"
   ]
  },
  {
   "cell_type": "markdown",
   "id": "3fa94604",
   "metadata": {},
   "source": [
    "Next we will iterate through all of the directories and files stored in the annotation_path to save the directory, annotation file name, and image file name."
   ]
  },
  {
   "cell_type": "code",
   "execution_count": 148,
   "id": "e7fd6541",
   "metadata": {},
   "outputs": [],
   "source": [
    "#Get list of subdirectories\n",
    "subdir_list = [f.name for f in os.scandir(annotation_path) if f.is_dir()]\n",
    "\n",
    "#Iterate through subdirectories, saving the name of the subdirectory,\n",
    "#annotation files and image files\n",
    "for subdir in subdir_list:\n",
    "    subdir_path = annotation_path + subdir + '/'\n",
    "    json_names = [f[:-5] for f in os.listdir(subdir_path) if f.endswith('.json')]\n",
    "    image_names = [f[:-4] for f in os.listdir(subdir_path) if f.endswith('.png')]\n",
    "    if len(json_names) != len(image_names):\n",
    "        print(\"Different number of JSON and images ({0} vs. {1}) in {2}\".format(\n",
    "        len(json_names), len(image_names), subdir))\n",
    "        unmatched_image = list(set(image_names)-set(json_names))\n",
    "        unmatched_json = list(set(json_names)-set(image_names))\n",
    "        unmatched_files = unmatched_image + unmatched_json\n",
    "        print(\"The unmatched file has the name {0}\".format(unmatched_files))\n",
    "        print(\"CODER PLEASE FIX AND RE-RUN THIS CELL\")\n",
    "        image_annotation_df = pd.DataFrame()\n",
    "        break\n",
    "    elif len(json_names) == len(image_names):\n",
    "        subdirs = [subdir] * len(json_names)\n",
    "        json_names.sort()\n",
    "        image_names.sort()\n",
    "        subdir_df = pd.DataFrame()\n",
    "        subdir_df['subdirectory'] = subdirs\n",
    "        subdir_df['image_file_name'] = json_names\n",
    "        subdir_df['json_file_name'] = image_names\n",
    "        image_annotation_df = pd.concat([image_annotation_df,subdir_df],\n",
    "                                        ignore_index=True) "
   ]
  },
  {
   "cell_type": "markdown",
   "id": "a2a8211d",
   "metadata": {},
   "source": [
    "Because images may have been annotated multiple times, we want to keep only the most recent annotations. We do this by numbering the subdirectories by recency (e.g., 1 is the most recent annotation on Nov 9, 2 is the second most recent annotation on Nov 3rd, etc.) and keeping the min recency ranking."
   ]
  },
  {
   "cell_type": "code",
   "execution_count": 149,
   "id": "efa856a3",
   "metadata": {},
   "outputs": [],
   "source": [
    "#Define function with recency\n",
    "def label_recency(row):\n",
    "    if row['subdirectory'] == 'MLFigsLabeled_Nov_09_Chris':\n",
    "        return 1\n",
    "    if row['subdirectory'] == 'MLFigsLabeled_Nov_03':\n",
    "        return 2\n",
    "    if row['subdirectory'] == 'MLFigs_Labeled_Oct_26_Chris':\n",
    "        return 3\n",
    "    if row['subdirectory'] == 'MlFigsLabeled_Oct_25_Chris':\n",
    "        return 4\n",
    "    \n",
    "#Apply that function to the df\n",
    "image_annotation_df['recency_rank'] = image_annotation_df.apply(label_recency, axis = 1)\n",
    "#image_annotation_df\n",
    "\n",
    "#Test that each image appears no more than 4 times (the # of subdirectories)\n",
    "image_counts = image_annotation_df.groupby('image_file_name').count().reset_index()\n",
    "more_than_four_copies_of_image = (image_counts['subdirectory']>4).any()\n",
    "if more_than_four_copies_of_image:\n",
    "    print(\"There are more than 4 copies of an image\")\n",
    "    print(\"The images in question are: \")\n",
    "    print(image_counts.loc[image_counts['subdirectory']>4]['image_file_name'])\n",
    "else:\n",
    "    pass"
   ]
  },
  {
   "cell_type": "markdown",
   "id": "de8bc8f9",
   "metadata": {},
   "source": [
    "Now we will filter the table to keep only the most recent annotation of an image."
   ]
  },
  {
   "cell_type": "code",
   "execution_count": 150,
   "id": "fe537524",
   "metadata": {
    "scrolled": true
   },
   "outputs": [],
   "source": [
    "#Grouping df by image_file_name, then filtering on min recency_rank\n",
    "recent_images_df = image_annotation_df.groupby('image_file_name').min('recency_rank').reset_index()\n",
    "\n",
    "#Verifying that each image is unique\n",
    "#print(recent_images_df.groupby('image_file_name').count().max())\n",
    "\n",
    "#Keeping only the images which are the most recent\n",
    "final_images = pd.merge(left=recent_images_df, right=image_annotation_df,\n",
    "                       how='left', on=['image_file_name', 'recency_rank'])\n",
    "if len(final_images) != len(recent_images_df):\n",
    "    print(\"Bad join - # of images in unique rankings != final # of images\")\n",
    "else:\n",
    "    pass\n",
    "\n",
    "#Verifying that each image is paired with its matching JSON\n",
    "if len(final_images.loc[final_images['image_file_name'] != final_images['json_file_name']]) >0:\n",
    "    print(\"Images are not paired with correct JSON - check code\")\n",
    "else:\n",
    "    pass\n",
    "\n",
    "#Verifying each final image is unique\n",
    "#print(final_images.groupby('image_file_name').count().max())"
   ]
  },
  {
   "cell_type": "markdown",
   "id": "c811b91a",
   "metadata": {},
   "source": [
    "Finally, we will format the dataframe as agreed-upon internally by the MSDS Capstone team and save it as a csv.\n",
    "\n",
    "Output: CSV file with each row corresponding to a unique image file with the following columns: image file name, image file path, JSON file path"
   ]
  },
  {
   "cell_type": "code",
   "execution_count": 156,
   "id": "58f37b93",
   "metadata": {},
   "outputs": [
    {
     "name": "stdout",
     "output_type": "stream",
     "text": [
      "Unique image filenames with most recent images and most recent annotation json saved to a csv in current directory.\n"
     ]
    },
    {
     "data": {
      "text/html": [
       "<div>\n",
       "<style scoped>\n",
       "    .dataframe tbody tr th:only-of-type {\n",
       "        vertical-align: middle;\n",
       "    }\n",
       "\n",
       "    .dataframe tbody tr th {\n",
       "        vertical-align: top;\n",
       "    }\n",
       "\n",
       "    .dataframe thead th {\n",
       "        text-align: right;\n",
       "    }\n",
       "</style>\n",
       "<table border=\"1\" class=\"dataframe\">\n",
       "  <thead>\n",
       "    <tr style=\"text-align: right;\">\n",
       "      <th></th>\n",
       "      <th>image_file_name</th>\n",
       "      <th>image_file_path</th>\n",
       "      <th>json_file_path</th>\n",
       "    </tr>\n",
       "  </thead>\n",
       "  <tbody>\n",
       "    <tr>\n",
       "      <th>0</th>\n",
       "      <td>20181204T100004-File-0</td>\n",
       "      <td>D:/Annotation Stuff/MLFigsLabeled_Nov_09_Chris...</td>\n",
       "      <td>D:/Annotation Stuff/MLFigsLabeled_Nov_09_Chris...</td>\n",
       "    </tr>\n",
       "    <tr>\n",
       "      <th>1</th>\n",
       "      <td>20181204T100004-File-1</td>\n",
       "      <td>D:/Annotation Stuff/MLFigsLabeled_Nov_03/20181...</td>\n",
       "      <td>D:/Annotation Stuff/MLFigsLabeled_Nov_03/20181...</td>\n",
       "    </tr>\n",
       "    <tr>\n",
       "      <th>2</th>\n",
       "      <td>20181204T100004-File-10</td>\n",
       "      <td>D:/Annotation Stuff/MLFigsLabeled_Nov_09_Chris...</td>\n",
       "      <td>D:/Annotation Stuff/MLFigsLabeled_Nov_09_Chris...</td>\n",
       "    </tr>\n",
       "    <tr>\n",
       "      <th>3</th>\n",
       "      <td>20181204T100004-File-17</td>\n",
       "      <td>D:/Annotation Stuff/MLFigsLabeled_Nov_09_Chris...</td>\n",
       "      <td>D:/Annotation Stuff/MLFigsLabeled_Nov_09_Chris...</td>\n",
       "    </tr>\n",
       "    <tr>\n",
       "      <th>4</th>\n",
       "      <td>20181204T100004-File-21</td>\n",
       "      <td>D:/Annotation Stuff/MLFigsLabeled_Nov_09_Chris...</td>\n",
       "      <td>D:/Annotation Stuff/MLFigsLabeled_Nov_09_Chris...</td>\n",
       "    </tr>\n",
       "  </tbody>\n",
       "</table>\n",
       "</div>"
      ],
      "text/plain": [
       "           image_file_name                                    image_file_path  \\\n",
       "0   20181204T100004-File-0  D:/Annotation Stuff/MLFigsLabeled_Nov_09_Chris...   \n",
       "1   20181204T100004-File-1  D:/Annotation Stuff/MLFigsLabeled_Nov_03/20181...   \n",
       "2  20181204T100004-File-10  D:/Annotation Stuff/MLFigsLabeled_Nov_09_Chris...   \n",
       "3  20181204T100004-File-17  D:/Annotation Stuff/MLFigsLabeled_Nov_09_Chris...   \n",
       "4  20181204T100004-File-21  D:/Annotation Stuff/MLFigsLabeled_Nov_09_Chris...   \n",
       "\n",
       "                                      json_file_path  \n",
       "0  D:/Annotation Stuff/MLFigsLabeled_Nov_09_Chris...  \n",
       "1  D:/Annotation Stuff/MLFigsLabeled_Nov_03/20181...  \n",
       "2  D:/Annotation Stuff/MLFigsLabeled_Nov_09_Chris...  \n",
       "3  D:/Annotation Stuff/MLFigsLabeled_Nov_09_Chris...  \n",
       "4  D:/Annotation Stuff/MLFigsLabeled_Nov_09_Chris...  "
      ]
     },
     "execution_count": 156,
     "metadata": {},
     "output_type": "execute_result"
    }
   ],
   "source": [
    "#Dropping the recency_rank col\n",
    "clean_images = final_images.drop('recency_rank', axis = 1)\n",
    "\n",
    "#Creating image file path\n",
    "clean_images['image_file_path'] = (annotation_path + \n",
    "                                   clean_images['subdirectory'] + \n",
    "                                  '/' + clean_images['image_file_name'] +\n",
    "                                  '.png')\n",
    "\n",
    "#Creating image file path\n",
    "clean_images['json_file_path'] = (annotation_path + \n",
    "                                   clean_images['subdirectory'] + \n",
    "                                  '/' + clean_images['json_file_name']+\n",
    "                                  '.json')\n",
    "\n",
    "\n",
    "#Dropping subdirectory & json filename col\n",
    "clean_images = clean_images.drop(['subdirectory', 'json_file_name'], axis = 1)\n",
    "\n",
    "#Save output to csv\n",
    "clean_images.to_csv('unique_images_annotations.csv', index = False)\n",
    "print(\"Unique image filenames with most recent images and most recent \"+\n",
    "     \"annotation json saved to a csv in current directory.\")\n",
    "clean_images.head()"
   ]
  },
  {
   "cell_type": "markdown",
   "id": "10116066",
   "metadata": {},
   "source": [
    "The cell below tests to verify that there should be no files from October 25th in the final data because they are contained in another directory."
   ]
  },
  {
   "cell_type": "code",
   "execution_count": null,
   "id": "a78aebd2",
   "metadata": {},
   "outputs": [],
   "source": [
    "'''#Testing to see if everything in october 25th dir is in the oct 26th dir\n",
    "#Get list of subdirectories\n",
    "subdir_list = ['D:/Annotation Stuff/MlFigsLabeled_Oct_25_Chris', 'D:/Annotation Stuff/MLFigs_Labeled_Oct_26_Chris']\n",
    "\n",
    "#Pulling the Oct 25 and 26th files\n",
    "json_names_25 = [f[:-5] for f in os.listdir('D:/Annotation Stuff/MlFigsLabeled_Oct_25_Chris') if f.endswith('.json')]\n",
    "json_names_26 = [f[:-5] for f in os.listdir('D:/Annotation Stuff/MLFigs_Labeled_Oct_26_Chris') if f.endswith('.json')]\n",
    "image_names_25 = [f[:-4] for f in os.listdir('D:/Annotation Stuff/MlFigsLabeled_Oct_25_Chris') if f.endswith('.png')]\n",
    "image_names_26 = [f[:-4] for f in os.listdir('D:/Annotation Stuff/MLFigs_Labeled_Oct_26_Chris') if f.endswith('.png')]\n",
    "\n",
    "#Seeing what's in 10/25 which isn't in 10/26 - ideally nothing\n",
    "json_25_26 = list(set(json_names_25)-set(json_names_26))\n",
    "print(json_25_26)\n",
    "image_25_26 = list(set(image_names_25)-set(image_names_26))\n",
    "print(image_25_26)\n",
    "\n",
    "#Seeing what's in 10/26 which isn't in 10/25 - should be many files based on folder item counts\n",
    "json_26_25 = list(set(json_names_26)-set(json_names_25))\n",
    "print(len(json_26_25))\n",
    "image_26_25 = list(set(image_names_26)-set(image_names_25))\n",
    "print(len(image_26_25))\n",
    "\n",
    "#Checking that the 2 printed numbers above = the delta in file contents\n",
    "print((692/2)-(234/2))'''"
   ]
  }
 ],
 "metadata": {
  "kernelspec": {
   "display_name": "Python 3 (ipykernel)",
   "language": "python",
   "name": "python3"
  },
  "language_info": {
   "codemirror_mode": {
    "name": "ipython",
    "version": 3
   },
   "file_extension": ".py",
   "mimetype": "text/x-python",
   "name": "python",
   "nbconvert_exporter": "python",
   "pygments_lexer": "ipython3",
   "version": "3.11.5"
  }
 },
 "nbformat": 4,
 "nbformat_minor": 5
}
