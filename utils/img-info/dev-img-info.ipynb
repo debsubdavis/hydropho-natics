{
 "cells": [
  {
   "cell_type": "markdown",
   "metadata": {},
   "source": [
    "### Steps taken to verify that the starting \"reference\" point for the annotations in the LabelME generated JSON files is the top left corner.\n",
    "\n",
    "1) Opened the .json and .png files for a spectrogram that contained a boat annotation that was approximately the width of the full spectrogram. \n",
    "    - Image file name: 20190206T083004-File-22_20Hz.png (attached in the directory where this notebook is saved)\n",
    "    - Annontation json file name: 20190206T083004-File-22.json\n",
    "2) Determine if the smallest x value is ~0 or not. If the smallest x value is larger than 0, confirms hypothesis that \"reference\" point is the top left corner. \n",
    "    - LabelME Annotations are saved in the format ([x1,y1], [x2,y2])\n",
    "    - Smallest x value is 318, confirming the hypothesis:     \n",
    "    - Excerpt from json annotation file: \n",
    "            {\n",
    "            \"label\": \"boat\",\n",
    "            \"points\": [\n",
    "                [\n",
    "                318.57142857142856,\n",
    "                526.7619047619048\n",
    "                ],\n",
    "                [\n",
    "                2163.809523809524,\n",
    "                1057.7142857142858\n",
    "                ]\n",
    "            ],\n",
    "            \"group_id\": null,\n",
    "            \"shape_type\": \"rectangle\",\n",
    "            \"flags\": {}\n",
    "            }\n",
    "\n",
    "\n",
    "### Steps taken to determine approximate location for left and right edges of the spectrogram within the image file.\n",
    "\n",
    "1) Annotated 10ximages in Roboflow with a bounding box outlining exactly the edge of the border on the Spectrogram within the image. \n",
    "    - Images used were from the images that Chris and Mitchell used when they created the annotations 1-2 years ago.\n",
    "    - Labeled as \"test-spect-loc\" in the msds-capstone-test Roboflow project\n",
    "2) Created a version of the dataset in Roboflow that only included the \"test-spect-loc\" annotations\n",
    "2) Exported the annotations from Roboflow in YOLOv8 format to a zip folder\n",
    "3) Extracted all the .txt files, filtered out the empty .txt files\n",
    "4) Based on YOLOv8 .txt format, determined average, min, and max values for the pixel location of the \n",
    "\n",
    "\n",
    "Results (in pixels):\n",
    "    avg_left_edges: 309.532, min_left_edges: 305.99499999999983, max_left_edges: 313.9949999999999\n",
    "    avg_right_edges: 2173.266, min_right_edges: 2166.8999999999996, max_right_edges: 2176.38\n",
    "\n"
   ]
  },
  {
   "cell_type": "code",
   "execution_count": 1,
   "metadata": {},
   "outputs": [
    {
     "name": "stdout",
     "output_type": "stream",
     "text": [
      "Requirement already satisfied: Pillow in /Users/debbiesubocz/anaconda3/envs/hydrophonatics/lib/python3.11/site-packages (10.0.1)\n"
     ]
    }
   ],
   "source": [
    "!pip install Pillow"
   ]
  },
  {
   "cell_type": "code",
   "execution_count": 27,
   "metadata": {},
   "outputs": [
    {
     "name": "stdout",
     "output_type": "stream",
     "text": [
      "The image size is 2400x1200 pixels.\n"
     ]
    }
   ],
   "source": [
    "from PIL import Image\n",
    "\n",
    "# Path to image created by Chris when Chris & Mitchell created annotations 1-2 years ago\n",
    "image_path = '/Users/debbiesubocz/capstone/rf_upload_labeled_cb_iter3/20160113T133004-File-25_20Hz.png'\n",
    "\n",
    "# Open the image\n",
    "image = Image.open(image_path)\n",
    "\n",
    "# Get the size of the image\n",
    "img_width, img_height = image.size\n",
    "\n",
    "# Print the size\n",
    "print(f\"The image size is {img_width}x{img_height} pixels.\")\n"
   ]
  },
  {
   "cell_type": "markdown",
   "metadata": {},
   "source": [
    "#### Verified that the 2400x1200 pixel size for the images was consistent across the following images:\n",
    " - Old Fred Olsen\n",
    " - New Fred Olsen\n",
    " - Azura"
   ]
  },
  {
   "cell_type": "code",
   "execution_count": 4,
   "metadata": {},
   "outputs": [],
   "source": [
    "# Path to where roboflow export was saved\n",
    "path_to_export = \"/Users/debbiesubocz/Downloads/msds-capstone-test.v3i.yolov8/train/labels\""
   ]
  },
  {
   "cell_type": "markdown",
   "metadata": {},
   "source": [
    "#### Find all the .txt files that contain the annotations added in Roboflow for around the border of the spectrogram"
   ]
  },
  {
   "cell_type": "code",
   "execution_count": 26,
   "metadata": {},
   "outputs": [
    {
     "name": "stdout",
     "output_type": "stream",
     "text": [
      "Contents of non-empty text files: ['0 0.517375 0.4812166666666667 0.7780833333333333 0.8157749999999999', '0 0.5170041666666666 0.4814833333333333 0.7756791666666667 0.8196416666666667', '0 0.5179958333333333 0.4824583333333334 0.7776583333333333 0.8215749999999999', '0 0.5158833333333332 0.48291666666666666 0.7739833333333334 0.8258416666666667', '0 0.5173666666666666 0.4809333333333333 0.7764 0.8185416666666666', '0 0.5176625 0.48145 0.7769958333333333 0.8162416666666666', '0 0.5180875 0.48060833333333336 0.776175 0.821225\\n0 0.5176708333333334 0.48306666666666664 0.7770041666666666 0.8186583333333334', '0 0.5180458333333333 0.48199166666666665 0.7744291666666667 0.8173166666666667', '0 0.516625 0.48224166666666674 0.77825 0.8244833333333333', '0 0.51645 0.48268333333333335 0.7779041666666667 0.8220333333333334']\n",
      "File names:  ['20190122T053004-File-17_png.rf.29703389148b636251eeb6867e90e5ea.txt', '20190120T083004-File-16_png.rf.07cc0a37eef72b3ab402b72fb1e64e78.txt', '20181231T040004-File-17_png.rf.feb1515ecce0897afc4570a26c3e1df4.txt', '20190128T173004-File-14_png.rf.b16f34f88ce1d2bdc54dade29d345682.txt', '20190122T100004-File-18_png.rf.e3fd1d4ec4986d8bcd9a09befa6db61a.txt', '20190126T160004-File-29_png.rf.af497547820a53def3cba2c33e194713.txt', '20190210T023004-File-16_png.rf.d65df760612679e1ab74aa028eb386d0.txt', '20190114T203004-File-17_png.rf.acada4426e244e221fa48539ea9cbcc3.txt', '20181207T070004-File-20_png.rf.917ad7bc22c31fc1fccf22635367e253.txt', '20181204T173004-File-24_png.rf.1d06a85d2e22bf51afb13bb221ada37a.txt']\n"
     ]
    }
   ],
   "source": [
    "import os\n",
    "\n",
    "# Specify the directory containing the .txt files\n",
    "directory = path_to_export\n",
    "\n",
    "# Initialize an array to hold the contents of non-empty text files\n",
    "non_empty_files_contents = []\n",
    "non_empty_files = []\n",
    "\n",
    "# Loop through each file in the directory\n",
    "for filename in os.listdir(directory):\n",
    "    # Check if the file is a .txt file\n",
    "    if filename.endswith('.txt'):\n",
    "        # Construct the full file path\n",
    "        file_path = os.path.join(directory, filename)\n",
    "        \n",
    "        # Open and read the file\n",
    "        with open(file_path, 'r') as file:\n",
    "            content = file.read().strip()\n",
    "            \n",
    "            # If the file is not empty, add its content to the array\n",
    "            if content:\n",
    "                non_empty_files_contents.append(content)\n",
    "                non_empty_files.append(filename)\n",
    "\n",
    "# At this point, non_empty_files_contents contains the contents of all non-empty .txt files in the directory\n",
    "print(\"Contents of non-empty text files:\", non_empty_files_contents)\n",
    "print(\"File names: \", non_empty_files)\n"
   ]
  },
  {
   "cell_type": "markdown",
   "metadata": {},
   "source": [
    "#### Use the coordinates in the .txt files to determine average, min, and max values for the right and left edges of the spectrogram.\n",
    "\n",
    "Note: Coordinates in YOLO format are in normalized format: (classification label, center of the annotation bounding box x coordinate, center of the annotation bounding box y coordinate, width of the annotation bounding box, height of the annotation bounding box )"
   ]
  },
  {
   "cell_type": "code",
   "execution_count": 25,
   "metadata": {},
   "outputs": [
    {
     "name": "stdout",
     "output_type": "stream",
     "text": [
      "left-edge-spect: 0.12833333333333335, x_right_edge_spectrogam: 0.9064166666666666\n",
      "left-edge-spect: 0.12916458333333325, x_right_edge_spectrogam: 0.90484375\n",
      "left-edge-spect: 0.12916666666666665, x_right_edge_spectrogam: 0.906825\n",
      "left-edge-spect: 0.12889166666666657, x_right_edge_spectrogam: 0.9028749999999999\n",
      "left-edge-spect: 0.12916666666666665, x_right_edge_spectrogam: 0.9055666666666666\n",
      "left-edge-spect: 0.12916458333333336, x_right_edge_spectrogam: 0.9061604166666667\n",
      "left-edge-spect: 0.13000000000000006, x_right_edge_spectrogam: 0.906175\n",
      "left-edge-spect: 0.13083124999999995, x_right_edge_spectrogam: 0.9052604166666667\n",
      "left-edge-spect: 0.1275, x_right_edge_spectrogam: 0.90575\n",
      "left-edge-spect: 0.1274979166666666, x_right_edge_spectrogam: 0.9054020833333334\n",
      "\n",
      "avg_left_edges: 309.532, min_left_edges: 305.99499999999983, max_left_edges: 313.9949999999999\n",
      "avg_right_edges: 2173.266, min_right_edges: 2166.8999999999996, max_right_edges: 2176.38\n"
     ]
    }
   ],
   "source": [
    "left_edges = []\n",
    "right_edges = []\n",
    "for ne_file in non_empty_files_contents:\n",
    "    #print(ne_file)\n",
    "    ne_file_splt = ne_file.split()\n",
    "    #print(ne_file_splt)\n",
    "    x_center = float(ne_file_splt[1])\n",
    "    width = float(ne_file_splt[3])\n",
    "\n",
    "    x_left_edge_spectrogram = x_center - (width/2)\n",
    "    x_right_edge_spectrogam = x_center + (width/2)\n",
    "\n",
    "    left_edges.append(x_left_edge_spectrogram)\n",
    "    right_edges.append(x_right_edge_spectrogam)\n",
    "\n",
    "    print(f'left-edge-spect: {x_left_edge_spectrogram}, x_right_edge_spectrogam: {x_right_edge_spectrogam}')\n",
    "\n",
    "avg_left_edges = (sum(left_edges) / len(left_edges)) * img_width\n",
    "avg_right_edges = (sum(right_edges) / len(right_edges)) * img_width\n",
    "max_left_edges = max(left_edges) * img_width\n",
    "min_left_edges = min(left_edges) * img_width\n",
    "max_right_edges = max(right_edges) * img_width\n",
    "min_right_edges = min(right_edges) * img_width\n",
    "\n",
    "print(f'\\navg_left_edges: {avg_left_edges}, min_left_edges: {min_left_edges}, max_left_edges: {max_left_edges}')\n",
    "print(f'avg_right_edges: {avg_right_edges}, min_right_edges: {min_right_edges}, max_right_edges: {max_right_edges}')"
   ]
  }
 ],
 "metadata": {
  "kernelspec": {
   "display_name": "hydrophonatics",
   "language": "python",
   "name": "python3"
  },
  "language_info": {
   "codemirror_mode": {
    "name": "ipython",
    "version": 3
   },
   "file_extension": ".py",
   "mimetype": "text/x-python",
   "name": "python",
   "nbconvert_exporter": "python",
   "pygments_lexer": "ipython3",
   "version": "3.11.7"
  }
 },
 "nbformat": 4,
 "nbformat_minor": 2
}
