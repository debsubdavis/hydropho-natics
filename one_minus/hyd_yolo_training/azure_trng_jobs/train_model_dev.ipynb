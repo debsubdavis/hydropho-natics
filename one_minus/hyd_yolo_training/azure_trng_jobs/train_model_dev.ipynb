{
 "cells": [
  {
   "cell_type": "markdown",
   "metadata": {},
   "source": [
    "## Train in the Cloud"
   ]
  },
  {
   "cell_type": "code",
   "execution_count": 2,
   "metadata": {},
   "outputs": [],
   "source": [
    "#import required libraries\n",
    "from azure.ai.ml import MLClient\n",
    "from azure.identity import DefaultAzureCredential\n",
    "from azure.ai.ml.entities import AmlCompute\n",
    "from azureml.core import Run, Dataset\n",
    "from azure.ai.ml import command\n",
    "from azure.ai.ml import Input\n"
   ]
  },
  {
   "cell_type": "code",
   "execution_count": 3,
   "metadata": {},
   "outputs": [],
   "source": [
    "#Enter details of your Azure Machine Learning workspace\n",
    "subscription_id = '8f00e0d7-79c6-4b37-bfea-a3b9362bd229'\n",
    "resource_group = 'yolov8-models'\n",
    "workspace = 'yolov8-hyp-tuning'\n",
    "\n",
    "#connect to the workspace\n",
    "ml_client = MLClient(DefaultAzureCredential(), subscription_id, resource_group, workspace)"
   ]
  },
  {
   "cell_type": "code",
   "execution_count": 4,
   "metadata": {},
   "outputs": [
    {
     "name": "stdout",
     "output_type": "stream",
     "text": [
      "Name: test-32gb-ram, Type: amlcompute\n"
     ]
    }
   ],
   "source": [
    "computes = ml_client.compute.list()\n",
    "\n",
    "for compute in computes:\n",
    "    print(f\"Name: {compute.name}, Type: {compute.type}\")"
   ]
  },
  {
   "cell_type": "code",
   "execution_count": 5,
   "metadata": {},
   "outputs": [
    {
     "name": "stdout",
     "output_type": "stream",
     "text": [
      "Name: minus-iter2-fo-asset, Version: None, Type: uri_folder\n"
     ]
    }
   ],
   "source": [
    "# List datasets\n",
    "datasets = ml_client.data.list()\n",
    "\n",
    "# Print the list of datasets\n",
    "for dataset in datasets:\n",
    "    print(f\"Name: {dataset.name}, Version: {dataset.version}, Type: {dataset.type}\")"
   ]
  },
  {
   "cell_type": "code",
   "execution_count": 6,
   "metadata": {},
   "outputs": [
    {
     "name": "stdout",
     "output_type": "stream",
     "text": [
      "Name: yolo_env\n",
      "Name: AzureML-AI-Studio-Development\n",
      "Name: AzureML-ACPT-pytorch-1.13-py38-cuda11.7-gpu\n",
      "Name: AzureML-ACPT-pytorch-1.12-py38-cuda11.6-gpu\n",
      "Name: AzureML-ACPT-pytorch-1.12-py39-cuda11.6-gpu\n",
      "Name: AzureML-ACPT-pytorch-1.11-py38-cuda11.5-gpu\n",
      "Name: AzureML-ACPT-pytorch-1.11-py38-cuda11.3-gpu\n",
      "Name: AzureML-responsibleai-0.21-ubuntu20.04-py38-cpu\n",
      "Name: AzureML-responsibleai-0.20-ubuntu20.04-py38-cpu\n",
      "Name: AzureML-tensorflow-2.5-ubuntu20.04-py38-cuda11-gpu\n",
      "Name: AzureML-tensorflow-2.6-ubuntu20.04-py38-cuda11-gpu\n",
      "Name: AzureML-tensorflow-2.7-ubuntu20.04-py38-cuda11-gpu\n",
      "Name: AzureML-sklearn-1.0-ubuntu20.04-py38-cpu\n",
      "Name: AzureML-pytorch-1.10-ubuntu18.04-py38-cuda11-gpu\n",
      "Name: AzureML-pytorch-1.9-ubuntu18.04-py37-cuda11-gpu\n",
      "Name: AzureML-pytorch-1.8-ubuntu18.04-py37-cuda11-gpu\n",
      "Name: AzureML-sklearn-0.24-ubuntu18.04-py37-cpu\n",
      "Name: AzureML-lightgbm-3.2-ubuntu18.04-py37-cpu\n",
      "Name: AzureML-pytorch-1.7-ubuntu18.04-py37-cuda11-gpu\n",
      "Name: AzureML-tensorflow-2.4-ubuntu18.04-py37-cuda11-gpu\n",
      "Name: AzureML-Triton\n",
      "Name: AzureML-Designer-Score\n",
      "Name: AzureML-VowpalWabbit-8.8.0\n",
      "Name: AzureML-PyTorch-1.3-CPU\n"
     ]
    }
   ],
   "source": [
    "environments = ml_client.environments.list()\n",
    "\n",
    "for env in environments:\n",
    "    print(f\"Name: {env.name}\")"
   ]
  },
  {
   "cell_type": "code",
   "execution_count": 9,
   "metadata": {},
   "outputs": [],
   "source": [
    "job = command(\n",
    "    inputs=dict(\n",
    "        num_epochs=3, ml_workspace_dataset=\"minus-iter2-fo-asset\"\n",
    "    ),\n",
    "    compute=\"test-32gb-ram\",\n",
    "    environment=\"yolo_env:1\",\n",
    "    code=\"/Users/debbiesubocz/GitReps/hydropho-natics/one_minus/hyd_yolo_training/azure_trng_jobs\",  # location of source code\n",
    "    command=\"python train_model.py \\\n",
    "        --num_epochs ${{inputs.num_epochs}} \\\n",
    "        ----ml_workspace_dataset ${{inputs.ml_workspace_dataset}}\",\n",
    "    experiment_name=\"yolo-job-exp-test\",\n",
    "    display_name=\"yolo-job-displayname-test\",\n",
    ")"
   ]
  },
  {
   "cell_type": "markdown",
   "metadata": {},
   "source": [
    "## THIS CODE:"
   ]
  },
  {
   "cell_type": "code",
   "execution_count": 19,
   "metadata": {},
   "outputs": [
    {
     "name": "stderr",
     "output_type": "stream",
     "text": [
      "Uploading azure_trng_jobs (0.03 MBs): 100%|██████████| 27937/27937 [00:00<00:00, 59445.88it/s]\n",
      "\n",
      "\n"
     ]
    },
    {
     "data": {
      "text/html": [
       "<table style=\"width:100%\"><tr><th>Experiment</th><th>Name</th><th>Type</th><th>Status</th><th>Details Page</th></tr><tr><td>yolo-job-exp-test</td><td>red_square_qtqxc407wz</td><td>command</td><td>Starting</td><td><a href=\"https://ml.azure.com/runs/red_square_qtqxc407wz?wsid=/subscriptions/8f00e0d7-79c6-4b37-bfea-a3b9362bd229/resourcegroups/yolov8-models/workspaces/yolov8-hyp-tuning&amp;tid=f6b6dd5b-f02f-441a-99a0-162ac5060bd2\" target=\"_blank\" rel=\"noopener\">Link to Azure Machine Learning studio</a></td></tr></table>"
      ],
      "text/plain": [
       "Command({'parameters': {}, 'init': False, 'name': 'red_square_qtqxc407wz', 'type': 'command', 'status': 'Starting', 'log_files': None, 'description': None, 'tags': {}, 'properties': {'mlflow.source.git.repoURL': 'https://github.com/debsubdavis/hydropho-natics.git', 'mlflow.source.git.branch': 'dd-one-minus', 'mlflow.source.git.commit': 'bb34a14cb426ce122e3215549490f2de916a4b2f', 'azureml.git.dirty': 'True', '_azureml.ComputeTargetType': 'amlctrain', '_azureml.ClusterName': 'test-32gb-ram', 'ContentSnapshotId': '0c17e148-daf4-4d6a-ac9f-ca83190c4d3c'}, 'print_as_yaml': True, 'id': '/subscriptions/8f00e0d7-79c6-4b37-bfea-a3b9362bd229/resourceGroups/yolov8-models/providers/Microsoft.MachineLearningServices/workspaces/yolov8-hyp-tuning/jobs/red_square_qtqxc407wz', 'Resource__source_path': None, 'base_path': '/Users/debbiesubocz/GitReps/hydropho-natics/one_minus/hyd_yolo_training/azure_trng_jobs', 'creation_context': <azure.ai.ml.entities._system_data.SystemData object at 0x1165ab110>, 'serialize': <msrest.serialization.Serializer object at 0x119a43f90>, 'allowed_keys': {}, 'key_restriction': False, 'logger': <Logger attr_dict (WARNING)>, 'display_name': 'yolo-job-displayname-test', 'experiment_name': 'yolo-job-exp-test', 'compute': 'test-32gb-ram', 'services': {'Tracking': {'endpoint': 'azureml://eastus.api.azureml.ms/mlflow/v1.0/subscriptions/8f00e0d7-79c6-4b37-bfea-a3b9362bd229/resourceGroups/yolov8-models/providers/Microsoft.MachineLearningServices/workspaces/yolov8-hyp-tuning?', 'type': 'Tracking'}, 'Studio': {'endpoint': 'https://ml.azure.com/runs/red_square_qtqxc407wz?wsid=/subscriptions/8f00e0d7-79c6-4b37-bfea-a3b9362bd229/resourcegroups/yolov8-models/workspaces/yolov8-hyp-tuning&tid=f6b6dd5b-f02f-441a-99a0-162ac5060bd2', 'type': 'Studio'}}, 'comment': None, 'job_inputs': {'epochs': '3', 'ml_workspace_dataset': 'minus-iter2-fo-asset'}, 'job_outputs': {'default': {'type': 'uri_folder', 'path': 'azureml://datastores/workspaceartifactstore/ExperimentRun/dcid.red_square_qtqxc407wz', 'mode': 'rw_mount'}}, 'inputs': {'epochs': <azure.ai.ml.entities._job.pipeline._io.base.NodeInput object at 0x119a43710>, 'ml_workspace_dataset': <azure.ai.ml.entities._job.pipeline._io.base.NodeInput object at 0x119a42650>}, 'outputs': {'default': <azure.ai.ml.entities._job.pipeline._io.base.NodeOutput object at 0x119a42710>}, 'component': CommandComponent({'intellectual_property': None, 'auto_increment_version': True, 'source': 'REMOTE.WORKSPACE.JOB', 'is_anonymous': False, 'auto_delete_setting': None, 'name': 'red_square_qtqxc407wz', 'description': None, 'tags': {}, 'properties': {}, 'print_as_yaml': True, 'id': None, 'Resource__source_path': None, 'base_path': '/Users/debbiesubocz/GitReps/hydropho-natics/one_minus/hyd_yolo_training/azure_trng_jobs', 'creation_context': <azure.ai.ml.entities._system_data.SystemData object at 0x1165ab110>, 'serialize': <msrest.serialization.Serializer object at 0x1198a7bd0>, 'command': 'python train_model.py         --epochs ${{inputs.epochs}}         --ml_workspace_dataset ${{inputs.ml_workspace_dataset}}', 'code': '/subscriptions/8f00e0d7-79c6-4b37-bfea-a3b9362bd229/resourceGroups/yolov8-models/providers/Microsoft.MachineLearningServices/workspaces/yolov8-hyp-tuning/codes/266c34f9-7739-4f40-8363-23bebfb31890/versions/1', 'environment_variables': {}, 'environment': '/subscriptions/8f00e0d7-79c6-4b37-bfea-a3b9362bd229/resourceGroups/yolov8-models/providers/Microsoft.MachineLearningServices/workspaces/yolov8-hyp-tuning/environments/yolo_env/versions/1', 'distribution': None, 'resources': None, 'queue_settings': None, 'version': None, 'latest_version': None, 'schema': None, 'type': 'command', 'display_name': 'yolo-job-displayname-test', 'is_deterministic': True, 'inputs': {'epochs': {'type': 'string', 'default': '3'}, 'ml_workspace_dataset': {'type': 'string', 'default': 'minus-iter2-fo-asset'}}, 'outputs': {'default': {'type': 'uri_folder', 'path': 'azureml://datastores/workspaceartifactstore/ExperimentRun/dcid.red_square_qtqxc407wz', 'mode': 'rw_mount'}}, 'yaml_str': None, 'other_parameter': {'status': 'Starting', 'parameters': {}}, 'additional_includes': []}), 'referenced_control_flow_node_instance_id': None, 'kwargs': {'services': {'Tracking': {'endpoint': 'azureml://eastus.api.azureml.ms/mlflow/v1.0/subscriptions/8f00e0d7-79c6-4b37-bfea-a3b9362bd229/resourceGroups/yolov8-models/providers/Microsoft.MachineLearningServices/workspaces/yolov8-hyp-tuning?', 'type': 'Tracking'}, 'Studio': {'endpoint': 'https://ml.azure.com/runs/red_square_qtqxc407wz?wsid=/subscriptions/8f00e0d7-79c6-4b37-bfea-a3b9362bd229/resourcegroups/yolov8-models/workspaces/yolov8-hyp-tuning&tid=f6b6dd5b-f02f-441a-99a0-162ac5060bd2', 'type': 'Studio'}}, 'status': 'Starting', 'creation_context': <azure.ai.ml.entities._system_data.SystemData object at 0x1165ab110>}, 'instance_id': '9729e8eb-cc68-42c6-8052-090e77f146b3', 'source': 'BUILDER', 'validate_required_input_not_provided': True, 'limits': None, 'identity': None, 'distribution': None, 'environment_variables': {}, 'environment': 'yolo_env:1', 'resources': {'instance_count': 1, 'shm_size': '2g'}, 'queue_settings': None, 'swept': False})"
      ]
     },
     "execution_count": 19,
     "metadata": {},
     "output_type": "execute_result"
    }
   ],
   "source": [
    "#Enter details of your Azure Machine Learning workspace\n",
    "subscription_id = '8f00e0d7-79c6-4b37-bfea-a3b9362bd229'\n",
    "resource_group = 'yolov8-models'\n",
    "workspace = 'yolov8-hyp-tuning'\n",
    "\n",
    "#connect to the workspace\n",
    "ml_client = MLClient(DefaultAzureCredential(), subscription_id, resource_group, workspace)\n",
    "\n",
    "job = command(\n",
    "    inputs=dict(\n",
    "        epochs=3, ml_workspace_dataset=\"minus-iter2-fo-asset\"\n",
    "    ),\n",
    "    compute=\"test-32gb-ram\",\n",
    "    environment=\"yolo_env:1\",\n",
    "    code=\"/Users/debbiesubocz/GitReps/hydropho-natics/one_minus/hyd_yolo_training/azure_trng_jobs\",  # location of source code\n",
    "    command=\"python train_model.py \\\n",
    "        --epochs ${{inputs.epochs}} \\\n",
    "        --ml_workspace_dataset ${{inputs.ml_workspace_dataset}}\",\n",
    "    experiment_name=\"yolo-job-exp-test\",\n",
    "    display_name=\"yolo-job-displayname-test\",\n",
    ")\n",
    "\n",
    "ml_client.jobs.create_or_update(job)"
   ]
  },
  {
   "cell_type": "code",
   "execution_count": 18,
   "metadata": {},
   "outputs": [
    {
     "name": "stderr",
     "output_type": "stream",
     "text": [
      "Uploading azure_trng_jobs (0.03 MBs): 100%|██████████| 27481/27481 [00:00<00:00, 52060.17it/s]\n",
      "\n",
      "\n"
     ]
    },
    {
     "data": {
      "text/html": [
       "<table style=\"width:100%\"><tr><th>Experiment</th><th>Name</th><th>Type</th><th>Status</th><th>Details Page</th></tr><tr><td>yolo-job-exp-test</td><td>blue_eye_6qcdhxdbfd</td><td>command</td><td>Starting</td><td><a href=\"https://ml.azure.com/runs/blue_eye_6qcdhxdbfd?wsid=/subscriptions/8f00e0d7-79c6-4b37-bfea-a3b9362bd229/resourcegroups/yolov8-models/workspaces/yolov8-hyp-tuning&amp;tid=f6b6dd5b-f02f-441a-99a0-162ac5060bd2\" target=\"_blank\" rel=\"noopener\">Link to Azure Machine Learning studio</a></td></tr></table>"
      ],
      "text/plain": [
       "Command({'parameters': {}, 'init': False, 'name': 'blue_eye_6qcdhxdbfd', 'type': 'command', 'status': 'Starting', 'log_files': None, 'description': None, 'tags': {}, 'properties': {'mlflow.source.git.repoURL': 'https://github.com/debsubdavis/hydropho-natics.git', 'mlflow.source.git.branch': 'dd-one-minus', 'mlflow.source.git.commit': 'bb34a14cb426ce122e3215549490f2de916a4b2f', 'azureml.git.dirty': 'True', '_azureml.ComputeTargetType': 'amlctrain', '_azureml.ClusterName': 'test-32gb-ram', 'ContentSnapshotId': 'a43f573a-23e3-4cfa-be74-fee3a85cc614'}, 'print_as_yaml': True, 'id': '/subscriptions/8f00e0d7-79c6-4b37-bfea-a3b9362bd229/resourceGroups/yolov8-models/providers/Microsoft.MachineLearningServices/workspaces/yolov8-hyp-tuning/jobs/blue_eye_6qcdhxdbfd', 'Resource__source_path': None, 'base_path': '/Users/debbiesubocz/GitReps/hydropho-natics/one_minus/hyd_yolo_training/azure_trng_jobs', 'creation_context': <azure.ai.ml.entities._system_data.SystemData object at 0x119873350>, 'serialize': <msrest.serialization.Serializer object at 0x1199abad0>, 'allowed_keys': {}, 'key_restriction': False, 'logger': <Logger attr_dict (WARNING)>, 'display_name': 'yolo-job-displayname-test', 'experiment_name': 'yolo-job-exp-test', 'compute': 'test-32gb-ram', 'services': {'Tracking': {'endpoint': 'azureml://eastus.api.azureml.ms/mlflow/v1.0/subscriptions/8f00e0d7-79c6-4b37-bfea-a3b9362bd229/resourceGroups/yolov8-models/providers/Microsoft.MachineLearningServices/workspaces/yolov8-hyp-tuning?', 'type': 'Tracking'}, 'Studio': {'endpoint': 'https://ml.azure.com/runs/blue_eye_6qcdhxdbfd?wsid=/subscriptions/8f00e0d7-79c6-4b37-bfea-a3b9362bd229/resourcegroups/yolov8-models/workspaces/yolov8-hyp-tuning&tid=f6b6dd5b-f02f-441a-99a0-162ac5060bd2', 'type': 'Studio'}}, 'comment': None, 'job_inputs': {'epochs': '3', 'ml_workspace_dataset': 'minus-iter2-fo-asset'}, 'job_outputs': {'default': {'type': 'uri_folder', 'path': 'azureml://datastores/workspaceartifactstore/ExperimentRun/dcid.blue_eye_6qcdhxdbfd', 'mode': 'rw_mount'}}, 'inputs': {'epochs': <azure.ai.ml.entities._job.pipeline._io.base.NodeInput object at 0x11991ab90>, 'ml_workspace_dataset': <azure.ai.ml.entities._job.pipeline._io.base.NodeInput object at 0x1199aa250>}, 'outputs': {'default': <azure.ai.ml.entities._job.pipeline._io.base.NodeOutput object at 0x1199aaf90>}, 'component': CommandComponent({'intellectual_property': None, 'auto_increment_version': True, 'source': 'REMOTE.WORKSPACE.JOB', 'is_anonymous': False, 'auto_delete_setting': None, 'name': 'blue_eye_6qcdhxdbfd', 'description': None, 'tags': {}, 'properties': {}, 'print_as_yaml': True, 'id': None, 'Resource__source_path': None, 'base_path': '/Users/debbiesubocz/GitReps/hydropho-natics/one_minus/hyd_yolo_training/azure_trng_jobs', 'creation_context': <azure.ai.ml.entities._system_data.SystemData object at 0x119873350>, 'serialize': <msrest.serialization.Serializer object at 0x1199ab050>, 'command': 'python train_model.py         --epochs ${{inputs.epochs}}         --ml_workspace_dataset ${{inputs.ml_workspace_dataset}}', 'code': '/subscriptions/8f00e0d7-79c6-4b37-bfea-a3b9362bd229/resourceGroups/yolov8-models/providers/Microsoft.MachineLearningServices/workspaces/yolov8-hyp-tuning/codes/af24016e-757b-4ca7-9ba3-3cd37eff98d2/versions/1', 'environment_variables': {}, 'environment': '/subscriptions/8f00e0d7-79c6-4b37-bfea-a3b9362bd229/resourceGroups/yolov8-models/providers/Microsoft.MachineLearningServices/workspaces/yolov8-hyp-tuning/environments/yolo_env/versions/1', 'distribution': None, 'resources': None, 'queue_settings': None, 'version': None, 'latest_version': None, 'schema': None, 'type': 'command', 'display_name': 'yolo-job-displayname-test', 'is_deterministic': True, 'inputs': {'epochs': {'type': 'string', 'default': '3'}, 'ml_workspace_dataset': {'type': 'string', 'default': 'minus-iter2-fo-asset'}}, 'outputs': {'default': {'type': 'uri_folder', 'path': 'azureml://datastores/workspaceartifactstore/ExperimentRun/dcid.blue_eye_6qcdhxdbfd', 'mode': 'rw_mount'}}, 'yaml_str': None, 'other_parameter': {'status': 'Starting', 'parameters': {}}, 'additional_includes': []}), 'referenced_control_flow_node_instance_id': None, 'kwargs': {'services': {'Tracking': {'endpoint': 'azureml://eastus.api.azureml.ms/mlflow/v1.0/subscriptions/8f00e0d7-79c6-4b37-bfea-a3b9362bd229/resourceGroups/yolov8-models/providers/Microsoft.MachineLearningServices/workspaces/yolov8-hyp-tuning?', 'type': 'Tracking'}, 'Studio': {'endpoint': 'https://ml.azure.com/runs/blue_eye_6qcdhxdbfd?wsid=/subscriptions/8f00e0d7-79c6-4b37-bfea-a3b9362bd229/resourcegroups/yolov8-models/workspaces/yolov8-hyp-tuning&tid=f6b6dd5b-f02f-441a-99a0-162ac5060bd2', 'type': 'Studio'}}, 'status': 'Starting', 'creation_context': <azure.ai.ml.entities._system_data.SystemData object at 0x119873350>}, 'instance_id': 'bf166a7a-49e4-43e5-94e9-7351b10c6589', 'source': 'BUILDER', 'validate_required_input_not_provided': True, 'limits': None, 'identity': None, 'distribution': None, 'environment_variables': {}, 'environment': 'yolo_env:1', 'resources': {'instance_count': 1, 'shm_size': '2g'}, 'queue_settings': None, 'swept': False})"
      ]
     },
     "execution_count": 18,
     "metadata": {},
     "output_type": "execute_result"
    }
   ],
   "source": []
  },
  {
   "cell_type": "code",
   "execution_count": null,
   "metadata": {},
   "outputs": [],
   "source": [
    "# Force PyTorch to use CPU\n",
    "device = torch.device('cpu')\n",
    "# Load your YOLO model\n",
    "model = YOLO().to(device)\n",
    "\n",
    "# Example training call for local development — you might need to adjust arguments based on your specific training configuration\n",
    "model.train(data=(mounted_path+\"/data.yaml\"),\n",
    "            pretrained=\"yolov8n.pt\",\n",
    "            batch=16,  # Batch size\n",
    "            epochs=3,  # Number of epochs\n",
    "            project=opt.output_dir,  # Output directory\n",
    "            name=\"test-exp\",  # Name of the run\n",
    "            exist_ok=True,\n",
    "            device='cpu')"
   ]
  },
  {
   "cell_type": "markdown",
   "metadata": {},
   "source": [
    "## Ignore below here for now"
   ]
  },
  {
   "cell_type": "code",
   "execution_count": 2,
   "metadata": {},
   "outputs": [],
   "source": [
    "#!pip install ultralytics torch>=1.8\n",
    "import os\n",
    "from ultralytics import YOLO\n",
    "import torch"
   ]
  },
  {
   "cell_type": "code",
   "execution_count": 3,
   "metadata": {},
   "outputs": [
    {
     "name": "stdout",
     "output_type": "stream",
     "text": [
      "\n",
      "                   from  n    params  module                                       arguments                     \n",
      "  0                  -1  1       464  ultralytics.nn.modules.conv.Conv             [3, 16, 3, 2]                 \n",
      "  1                  -1  1      4672  ultralytics.nn.modules.conv.Conv             [16, 32, 3, 2]                \n",
      "  2                  -1  1      7360  ultralytics.nn.modules.block.C2f             [32, 32, 1, True]             \n",
      "  3                  -1  1     18560  ultralytics.nn.modules.conv.Conv             [32, 64, 3, 2]                \n",
      "  4                  -1  2     49664  ultralytics.nn.modules.block.C2f             [64, 64, 2, True]             \n",
      "  5                  -1  1     73984  ultralytics.nn.modules.conv.Conv             [64, 128, 3, 2]               \n",
      "  6                  -1  2    197632  ultralytics.nn.modules.block.C2f             [128, 128, 2, True]           \n",
      "  7                  -1  1    295424  ultralytics.nn.modules.conv.Conv             [128, 256, 3, 2]              \n",
      "  8                  -1  1    460288  ultralytics.nn.modules.block.C2f             [256, 256, 1, True]           \n",
      "  9                  -1  1    164608  ultralytics.nn.modules.block.SPPF            [256, 256, 5]                 \n",
      " 10                  -1  1         0  torch.nn.modules.upsampling.Upsample         [None, 2, 'nearest']          \n",
      " 11             [-1, 6]  1         0  ultralytics.nn.modules.conv.Concat           [1]                           \n",
      " 12                  -1  1    148224  ultralytics.nn.modules.block.C2f             [384, 128, 1]                 \n",
      " 13                  -1  1         0  torch.nn.modules.upsampling.Upsample         [None, 2, 'nearest']          \n",
      " 14             [-1, 4]  1         0  ultralytics.nn.modules.conv.Concat           [1]                           \n",
      " 15                  -1  1     37248  ultralytics.nn.modules.block.C2f             [192, 64, 1]                  \n",
      " 16                  -1  1     36992  ultralytics.nn.modules.conv.Conv             [64, 64, 3, 2]                \n",
      " 17            [-1, 12]  1         0  ultralytics.nn.modules.conv.Concat           [1]                           \n",
      " 18                  -1  1    123648  ultralytics.nn.modules.block.C2f             [192, 128, 1]                 \n",
      " 19                  -1  1    147712  ultralytics.nn.modules.conv.Conv             [128, 128, 3, 2]              \n",
      " 20             [-1, 9]  1         0  ultralytics.nn.modules.conv.Concat           [1]                           \n",
      " 21                  -1  1    493056  ultralytics.nn.modules.block.C2f             [384, 256, 1]                 \n",
      " 22        [15, 18, 21]  1    897664  ultralytics.nn.modules.head.Detect           [80, [64, 128, 256]]          \n"
     ]
    },
    {
     "ename": "",
     "evalue": "",
     "output_type": "error",
     "traceback": [
      "\u001b[1;31mThe Kernel crashed while executing code in the the current cell or a previous cell. Please review the code in the cell(s) to identify a possible cause of the failure. Click <a href='https://aka.ms/vscodeJupyterKernelCrash'>here</a> for more info. View Jupyter <a href='command:jupyter.viewOutput'>log</a> for further details."
     ]
    }
   ],
   "source": [
    "# Force PyTorch to use CPU\n",
    "device = torch.device('cpu')\n",
    "# Load your YOLO model\n",
    "model = YOLO(\"yolov8n.yaml\").to(device)"
   ]
  },
  {
   "cell_type": "code",
   "execution_count": 3,
   "metadata": {},
   "outputs": [
    {
     "name": "stdout",
     "output_type": "stream",
     "text": [
      "\n",
      "                   from  n    params  module                                       arguments                     \n",
      "  0                  -1  1       464  ultralytics.nn.modules.conv.Conv             [3, 16, 3, 2]                 \n",
      "  1                  -1  1      4672  ultralytics.nn.modules.conv.Conv             [16, 32, 3, 2]                \n",
      "  2                  -1  1      7360  ultralytics.nn.modules.block.C2f             [32, 32, 1, True]             \n",
      "  3                  -1  1     18560  ultralytics.nn.modules.conv.Conv             [32, 64, 3, 2]                \n",
      "  4                  -1  2     49664  ultralytics.nn.modules.block.C2f             [64, 64, 2, True]             \n",
      "  5                  -1  1     73984  ultralytics.nn.modules.conv.Conv             [64, 128, 3, 2]               \n",
      "  6                  -1  2    197632  ultralytics.nn.modules.block.C2f             [128, 128, 2, True]           \n",
      "  7                  -1  1    295424  ultralytics.nn.modules.conv.Conv             [128, 256, 3, 2]              \n",
      "  8                  -1  1    460288  ultralytics.nn.modules.block.C2f             [256, 256, 1, True]           \n",
      "  9                  -1  1    164608  ultralytics.nn.modules.block.SPPF            [256, 256, 5]                 \n",
      " 10                  -1  1         0  torch.nn.modules.upsampling.Upsample         [None, 2, 'nearest']          \n",
      " 11             [-1, 6]  1         0  ultralytics.nn.modules.conv.Concat           [1]                           \n",
      " 12                  -1  1    148224  ultralytics.nn.modules.block.C2f             [384, 128, 1]                 \n",
      " 13                  -1  1         0  torch.nn.modules.upsampling.Upsample         [None, 2, 'nearest']          \n",
      " 14             [-1, 4]  1         0  ultralytics.nn.modules.conv.Concat           [1]                           \n",
      " 15                  -1  1     37248  ultralytics.nn.modules.block.C2f             [192, 64, 1]                  \n",
      " 16                  -1  1     36992  ultralytics.nn.modules.conv.Conv             [64, 64, 3, 2]                \n",
      " 17            [-1, 12]  1         0  ultralytics.nn.modules.conv.Concat           [1]                           \n"
     ]
    },
    {
     "name": "stdout",
     "output_type": "stream",
     "text": [
      " 18                  -1  1    123648  ultralytics.nn.modules.block.C2f             [192, 128, 1]                 \n",
      " 19                  -1  1    147712  ultralytics.nn.modules.conv.Conv             [128, 128, 3, 2]              \n",
      " 20             [-1, 9]  1         0  ultralytics.nn.modules.conv.Concat           [1]                           \n",
      " 21                  -1  1    493056  ultralytics.nn.modules.block.C2f             [384, 256, 1]                 \n",
      " 22        [15, 18, 21]  1    897664  ultralytics.nn.modules.head.Detect           [80, [64, 128, 256]]          \n"
     ]
    },
    {
     "ename": "",
     "evalue": "",
     "output_type": "error",
     "traceback": [
      "\u001b[1;31mThe Kernel crashed while executing code in the the current cell or a previous cell. Please review the code in the cell(s) to identify a possible cause of the failure. Click <a href='https://aka.ms/vscodeJupyterKernelCrash'>here</a> for more info. View Jupyter <a href='command:jupyter.viewOutput'>log</a> for further details."
     ]
    }
   ],
   "source": [
    "data_dir = \"Users/djsdavis/training_dataset/data.yaml\"\n",
    "output_dir = \"Users/djsdavis/training_dataset/output/\""
   ]
  },
  {
   "cell_type": "code",
   "execution_count": null,
   "metadata": {},
   "outputs": [],
   "source": [
    "results = model.train(data=data_dir, \n",
    "                      epochs=1,\n",
    "                      project=output_dir,\n",
    "                      device=\"cpu\")\n"
   ]
  }
 ],
 "metadata": {
  "kernelspec": {
   "display_name": "hydrophonatics",
   "language": "python",
   "name": "python3"
  },
  "language_info": {
   "codemirror_mode": {
    "name": "ipython",
    "version": 3
   },
   "file_extension": ".py",
   "mimetype": "text/x-python",
   "name": "python",
   "nbconvert_exporter": "python",
   "pygments_lexer": "ipython3",
   "version": "3.11.7"
  }
 },
 "nbformat": 4,
 "nbformat_minor": 2
}
