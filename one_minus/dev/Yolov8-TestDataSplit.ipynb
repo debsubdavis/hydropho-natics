{
 "cells": [
  {
   "cell_type": "code",
   "execution_count": 2,
   "id": "0ee35787",
   "metadata": {},
   "outputs": [],
   "source": [
    "import shutil\n",
    "import os"
   ]
  },
  {
   "cell_type": "code",
   "execution_count": 7,
   "id": "54fb808e",
   "metadata": {},
   "outputs": [],
   "source": [
    "# Set your source and destination folder paths\n",
    "source_folder = r\"D:\\Capstone Data\\Roboflow Data\\msds_capstone_test_fred_olson_yolov5\\train\\labels\"\n",
    "destination_folder = r\"D:\\Capstone Data\\Roboflow Data\\msds_capstone_test_fred_olson_yolov5\\untrained\\labels\""
   ]
  },
  {
   "cell_type": "code",
   "execution_count": 3,
   "id": "1f1f655b",
   "metadata": {
    "collapsed": true
   },
   "outputs": [
    {
     "data": {
      "text/plain": [
       "['20190201T130004-File-25_png.rf.21c748f9c5f54d8fa72d25ca04fd742a.jpg',\n",
       " '20190201T143004-File-14_png.rf.d445d537705f7cd844690be1b912a7d8.jpg',\n",
       " '20190201T143004-File-28_png.rf.801d63d85cbad010ec6f2a9207ffd3d5.jpg',\n",
       " '20190203T190004-File-25_png.rf.0bb0df6d1e028db8f632e2f4c588bbc3.jpg',\n",
       " '20190204T010004-File-10_png.rf.d2b863fc30f3a419c5d634662abdd621.jpg',\n",
       " '20190204T130004-File-25_png.rf.54199e18f93973ba4d69cadb5e1b46d4.jpg',\n",
       " '20190205T083004-File-3_png.rf.1f663562c2479b5e2d9c7783f5aa6f7f.jpg',\n",
       " '20190205T100004-File-20_png.rf.a12488e59e23b0deed38c7568d423b1a.jpg',\n",
       " '20190205T100004-File-21_png.rf.001a9a7da9fa42d7e0ddcfc368ed01b5.jpg',\n",
       " '20190205T100004-File-22_png.rf.7e7a479c8f57c55401eb5c36ce4c0013.jpg',\n",
       " '20190205T100004-File-25_png.rf.1beda2df3eecbed64c377d2d13656d4a.jpg',\n",
       " '20190205T130004-File-19_png.rf.0d9412036473788914b81c455fb1fb43.jpg',\n",
       " '20190205T220004-File-26_png.rf.a6930c6b821e89fec3a8fac2889a03fc.jpg',\n",
       " '20190206T083004-File-22_png.rf.ef24f756c4826035a989019be936bb24.jpg',\n",
       " '20190206T173004-File-8_png.rf.7d2d60f6d2c9397157ac29e7a17a4593.jpg',\n",
       " '20190207T083004-File-11_png.rf.6455daa51250e79cfa9341cda5ca6c40.jpg',\n",
       " '20190207T203004-File-26_png.rf.f8fca6f868f0c19faf0a20c3beecec05.jpg',\n",
       " '20190208T010004-File-14_png.rf.ed2f25a20f9af064b5bd1276ee2bb20d.jpg',\n",
       " '20190209T100004-File-10_png.rf.f305c817a5934626bbadb18328024d60.jpg',\n",
       " '20190209T173004-File-11_png.rf.2985052fd513ece54cb94f471e047287.jpg',\n",
       " '20190210T023004-File-16_png.rf.7c8eb752cb035597f896f3c25d25abd6.jpg',\n",
       " '20190210T040004-File-4_png.rf.1a6fb8e2bffdf0484f11a11315bf118d.jpg',\n",
       " '20190210T053004-File-26_png.rf.dab1f49c43ca72299afe638eb107c21c.jpg',\n",
       " '20190210T160004-File-9_png.rf.078f91eb36230bc4fd97a027c79db7e7.jpg',\n",
       " '20190210T173004-File-25_png.rf.4ee55da9a2d7a50571c143fa82a13321.jpg',\n",
       " '20190212T023004-File-17_png.rf.bab30fcc2c9d6f2abff12b46b06e8ea6.jpg',\n",
       " '20190213T040004-File-17_png.rf.6f09b020436be44bc29296090ecbdc10.jpg',\n",
       " '20190213T040004-File-28_png.rf.b123917e92c8fd812c146563b212f5ca.jpg',\n",
       " '20190215T220004-File-25_png.rf.3f5abdc821c601b1df1f38d562a19526.jpg',\n",
       " '20190217T023004-File-27_png.rf.c40d6327c20fad8984f9e785f5db3b1e.jpg',\n",
       " '20190220T100004-File-24_png.rf.ac1fd668f9fe72c4e9607141a54a8325.jpg',\n",
       " '20190220T100004-File-26_png.rf.37d872f2bc3b3a316801839219128841.jpg',\n",
       " '20190220T143004-File-2_png.rf.ca703092912dbf36b42a9f221572d36a.jpg',\n",
       " '20190221T083004-File-3_png.rf.b7f0802e4f50c3cb589acad7ab59b531.jpg',\n",
       " '20190221T100004-File-10_png.rf.a72906549d46d702bbdfade5d130aa13.jpg',\n",
       " '20190221T100004-File-13_png.rf.9c387aa6e032e17d4843dca5f186d6c3.jpg',\n",
       " '20190221T100004-File-15_png.rf.ba1f29c219f4d9074001e55a10b2f1e0.jpg',\n",
       " '20190221T100004-File-17_png.rf.db3a6efea696fce386215eea09afa9fa.jpg',\n",
       " '20190221T100004-File-20_png.rf.97a699b4e4927147e00459756baa0c48.jpg',\n",
       " '20190221T100004-File-3_png.rf.75fc62bfb35d63daaa5927097c7779fb.jpg']"
      ]
     },
     "execution_count": 3,
     "metadata": {},
     "output_type": "execute_result"
    }
   ],
   "source": [
    "files = os.listdir(source_folder)\n",
    "files_to_move = files[:40]\n",
    "files_to_move"
   ]
  },
  {
   "cell_type": "code",
   "execution_count": 4,
   "id": "52912bec",
   "metadata": {},
   "outputs": [
    {
     "data": {
      "text/plain": [
       "50"
      ]
     },
     "execution_count": 4,
     "metadata": {},
     "output_type": "execute_result"
    }
   ],
   "source": [
    "len(files)"
   ]
  },
  {
   "cell_type": "code",
   "execution_count": 5,
   "id": "868a2325",
   "metadata": {},
   "outputs": [
    {
     "data": {
      "text/plain": [
       "['20190201T130004-File-25_png.rf.21c748f9c5f54d8fa72d25ca04fd742a',\n",
       " '20190201T143004-File-14_png.rf.d445d537705f7cd844690be1b912a7d8']"
      ]
     },
     "execution_count": 5,
     "metadata": {},
     "output_type": "execute_result"
    }
   ],
   "source": [
    "files_to_move = [file.replace('.jpg','') for file in files_to_move]\n",
    "files_to_move[:2]"
   ]
  },
  {
   "cell_type": "code",
   "execution_count": 8,
   "id": "16bf3225",
   "metadata": {},
   "outputs": [
    {
     "name": "stdout",
     "output_type": "stream",
     "text": [
      "Moved 20190201T130004-File-25_png.rf.21c748f9c5f54d8fa72d25ca04fd742a to D:\\Capstone Data\\Roboflow Data\\msds_capstone_test_fred_olson_yolov5\\untrained\\labels\n",
      "Moved 20190201T143004-File-14_png.rf.d445d537705f7cd844690be1b912a7d8 to D:\\Capstone Data\\Roboflow Data\\msds_capstone_test_fred_olson_yolov5\\untrained\\labels\n",
      "Moved 20190201T143004-File-28_png.rf.801d63d85cbad010ec6f2a9207ffd3d5 to D:\\Capstone Data\\Roboflow Data\\msds_capstone_test_fred_olson_yolov5\\untrained\\labels\n",
      "Moved 20190203T190004-File-25_png.rf.0bb0df6d1e028db8f632e2f4c588bbc3 to D:\\Capstone Data\\Roboflow Data\\msds_capstone_test_fred_olson_yolov5\\untrained\\labels\n",
      "Moved 20190204T010004-File-10_png.rf.d2b863fc30f3a419c5d634662abdd621 to D:\\Capstone Data\\Roboflow Data\\msds_capstone_test_fred_olson_yolov5\\untrained\\labels\n",
      "Moved 20190204T130004-File-25_png.rf.54199e18f93973ba4d69cadb5e1b46d4 to D:\\Capstone Data\\Roboflow Data\\msds_capstone_test_fred_olson_yolov5\\untrained\\labels\n",
      "Moved 20190205T083004-File-3_png.rf.1f663562c2479b5e2d9c7783f5aa6f7f to D:\\Capstone Data\\Roboflow Data\\msds_capstone_test_fred_olson_yolov5\\untrained\\labels\n",
      "Moved 20190205T100004-File-20_png.rf.a12488e59e23b0deed38c7568d423b1a to D:\\Capstone Data\\Roboflow Data\\msds_capstone_test_fred_olson_yolov5\\untrained\\labels\n",
      "Moved 20190205T100004-File-21_png.rf.001a9a7da9fa42d7e0ddcfc368ed01b5 to D:\\Capstone Data\\Roboflow Data\\msds_capstone_test_fred_olson_yolov5\\untrained\\labels\n",
      "Moved 20190205T100004-File-22_png.rf.7e7a479c8f57c55401eb5c36ce4c0013 to D:\\Capstone Data\\Roboflow Data\\msds_capstone_test_fred_olson_yolov5\\untrained\\labels\n",
      "Moved 20190205T100004-File-25_png.rf.1beda2df3eecbed64c377d2d13656d4a to D:\\Capstone Data\\Roboflow Data\\msds_capstone_test_fred_olson_yolov5\\untrained\\labels\n",
      "Moved 20190205T130004-File-19_png.rf.0d9412036473788914b81c455fb1fb43 to D:\\Capstone Data\\Roboflow Data\\msds_capstone_test_fred_olson_yolov5\\untrained\\labels\n",
      "Moved 20190205T220004-File-26_png.rf.a6930c6b821e89fec3a8fac2889a03fc to D:\\Capstone Data\\Roboflow Data\\msds_capstone_test_fred_olson_yolov5\\untrained\\labels\n",
      "Moved 20190206T083004-File-22_png.rf.ef24f756c4826035a989019be936bb24 to D:\\Capstone Data\\Roboflow Data\\msds_capstone_test_fred_olson_yolov5\\untrained\\labels\n",
      "Moved 20190206T173004-File-8_png.rf.7d2d60f6d2c9397157ac29e7a17a4593 to D:\\Capstone Data\\Roboflow Data\\msds_capstone_test_fred_olson_yolov5\\untrained\\labels\n",
      "Moved 20190207T083004-File-11_png.rf.6455daa51250e79cfa9341cda5ca6c40 to D:\\Capstone Data\\Roboflow Data\\msds_capstone_test_fred_olson_yolov5\\untrained\\labels\n",
      "Moved 20190207T203004-File-26_png.rf.f8fca6f868f0c19faf0a20c3beecec05 to D:\\Capstone Data\\Roboflow Data\\msds_capstone_test_fred_olson_yolov5\\untrained\\labels\n",
      "Moved 20190208T010004-File-14_png.rf.ed2f25a20f9af064b5bd1276ee2bb20d to D:\\Capstone Data\\Roboflow Data\\msds_capstone_test_fred_olson_yolov5\\untrained\\labels\n",
      "Moved 20190209T100004-File-10_png.rf.f305c817a5934626bbadb18328024d60 to D:\\Capstone Data\\Roboflow Data\\msds_capstone_test_fred_olson_yolov5\\untrained\\labels\n",
      "Moved 20190209T173004-File-11_png.rf.2985052fd513ece54cb94f471e047287 to D:\\Capstone Data\\Roboflow Data\\msds_capstone_test_fred_olson_yolov5\\untrained\\labels\n",
      "Moved 20190210T023004-File-16_png.rf.7c8eb752cb035597f896f3c25d25abd6 to D:\\Capstone Data\\Roboflow Data\\msds_capstone_test_fred_olson_yolov5\\untrained\\labels\n",
      "Moved 20190210T040004-File-4_png.rf.1a6fb8e2bffdf0484f11a11315bf118d to D:\\Capstone Data\\Roboflow Data\\msds_capstone_test_fred_olson_yolov5\\untrained\\labels\n",
      "Moved 20190210T053004-File-26_png.rf.dab1f49c43ca72299afe638eb107c21c to D:\\Capstone Data\\Roboflow Data\\msds_capstone_test_fred_olson_yolov5\\untrained\\labels\n",
      "Moved 20190210T160004-File-9_png.rf.078f91eb36230bc4fd97a027c79db7e7 to D:\\Capstone Data\\Roboflow Data\\msds_capstone_test_fred_olson_yolov5\\untrained\\labels\n",
      "Moved 20190210T173004-File-25_png.rf.4ee55da9a2d7a50571c143fa82a13321 to D:\\Capstone Data\\Roboflow Data\\msds_capstone_test_fred_olson_yolov5\\untrained\\labels\n",
      "Moved 20190212T023004-File-17_png.rf.bab30fcc2c9d6f2abff12b46b06e8ea6 to D:\\Capstone Data\\Roboflow Data\\msds_capstone_test_fred_olson_yolov5\\untrained\\labels\n",
      "Moved 20190213T040004-File-17_png.rf.6f09b020436be44bc29296090ecbdc10 to D:\\Capstone Data\\Roboflow Data\\msds_capstone_test_fred_olson_yolov5\\untrained\\labels\n",
      "Moved 20190213T040004-File-28_png.rf.b123917e92c8fd812c146563b212f5ca to D:\\Capstone Data\\Roboflow Data\\msds_capstone_test_fred_olson_yolov5\\untrained\\labels\n",
      "Moved 20190215T220004-File-25_png.rf.3f5abdc821c601b1df1f38d562a19526 to D:\\Capstone Data\\Roboflow Data\\msds_capstone_test_fred_olson_yolov5\\untrained\\labels\n",
      "Moved 20190217T023004-File-27_png.rf.c40d6327c20fad8984f9e785f5db3b1e to D:\\Capstone Data\\Roboflow Data\\msds_capstone_test_fred_olson_yolov5\\untrained\\labels\n",
      "Moved 20190220T100004-File-24_png.rf.ac1fd668f9fe72c4e9607141a54a8325 to D:\\Capstone Data\\Roboflow Data\\msds_capstone_test_fred_olson_yolov5\\untrained\\labels\n",
      "Moved 20190220T100004-File-26_png.rf.37d872f2bc3b3a316801839219128841 to D:\\Capstone Data\\Roboflow Data\\msds_capstone_test_fred_olson_yolov5\\untrained\\labels\n",
      "Moved 20190220T143004-File-2_png.rf.ca703092912dbf36b42a9f221572d36a to D:\\Capstone Data\\Roboflow Data\\msds_capstone_test_fred_olson_yolov5\\untrained\\labels\n",
      "Moved 20190221T083004-File-3_png.rf.b7f0802e4f50c3cb589acad7ab59b531 to D:\\Capstone Data\\Roboflow Data\\msds_capstone_test_fred_olson_yolov5\\untrained\\labels\n",
      "Moved 20190221T100004-File-10_png.rf.a72906549d46d702bbdfade5d130aa13 to D:\\Capstone Data\\Roboflow Data\\msds_capstone_test_fred_olson_yolov5\\untrained\\labels\n",
      "Moved 20190221T100004-File-13_png.rf.9c387aa6e032e17d4843dca5f186d6c3 to D:\\Capstone Data\\Roboflow Data\\msds_capstone_test_fred_olson_yolov5\\untrained\\labels\n",
      "Moved 20190221T100004-File-15_png.rf.ba1f29c219f4d9074001e55a10b2f1e0 to D:\\Capstone Data\\Roboflow Data\\msds_capstone_test_fred_olson_yolov5\\untrained\\labels\n",
      "Moved 20190221T100004-File-17_png.rf.db3a6efea696fce386215eea09afa9fa to D:\\Capstone Data\\Roboflow Data\\msds_capstone_test_fred_olson_yolov5\\untrained\\labels\n",
      "Moved 20190221T100004-File-20_png.rf.97a699b4e4927147e00459756baa0c48 to D:\\Capstone Data\\Roboflow Data\\msds_capstone_test_fred_olson_yolov5\\untrained\\labels\n",
      "Moved 20190221T100004-File-3_png.rf.75fc62bfb35d63daaa5927097c7779fb to D:\\Capstone Data\\Roboflow Data\\msds_capstone_test_fred_olson_yolov5\\untrained\\labels\n"
     ]
    }
   ],
   "source": [
    "for file_name in files_to_move:\n",
    "    source_path = os.path.join(source_folder, file_name)\n",
    "    destination_path = os.path.join(destination_folder, file_name)\n",
    "    source_path = source_path+'.txt'\n",
    "    destination_path = destination_path+'.txt'\n",
    "    os.rename(source_path,destination_path)\n",
    "    print(f\"Moved {file_name} to {destination_folder}\")"
   ]
  },
  {
   "cell_type": "code",
   "execution_count": null,
   "id": "530b7d11",
   "metadata": {},
   "outputs": [],
   "source": []
  }
 ],
 "metadata": {
  "kernelspec": {
   "display_name": "Python 3 (ipykernel)",
   "language": "python",
   "name": "python3"
  },
  "language_info": {
   "codemirror_mode": {
    "name": "ipython",
    "version": 3
   },
   "file_extension": ".py",
   "mimetype": "text/x-python",
   "name": "python",
   "nbconvert_exporter": "python",
   "pygments_lexer": "ipython3",
   "version": "3.11.5"
  }
 },
 "nbformat": 4,
 "nbformat_minor": 5
}
