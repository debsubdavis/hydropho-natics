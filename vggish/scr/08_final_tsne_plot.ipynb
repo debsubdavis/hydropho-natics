{
 "cells": [
  {
   "cell_type": "markdown",
   "metadata": {},
   "source": [
    "## Purpose\n",
    "\n",
    "The purpose of this code is to plot the embeddings \n",
    "\n",
    "Input(s):\n",
    "1. Path to the 2-D dimensionality reduced embeddings data in the form [identification_number, x, y]\n",
    "2. Path to the corresponding annotation data (e.g., if your embeddings are for 2 seconds of audio, the path to the 2 second audio annotations.)\n",
    "\n",
    "Output(s):\n",
    "1. Scatter plot graph color-coded to the classes listed in the annotation file\n",
    "    \n",
    "We will being by importing standard python libraries and setting the paths to the embedding and annotation csvs."
   ]
  },
  {
   "cell_type": "code",
   "execution_count": null,
   "metadata": {},
   "outputs": [],
   "source": [
    "#Python Libraries\n",
    "import pandas as pd\n",
    "import plotly.graph_objs as go\n",
    "from ipywidgets import VBox\n",
    "import random\n",
    "\n",
    "#User-entered data files\n",
    "embedding_csv_path = #['INSERT STRING OF ABSOLUTE PATH TO EMBEDDING CSV HERE']\n",
    "annotation_csv_path = #['INSERT STRING OF ABSOLUTE PATH TO ANNOTATION CSV HERE']"
   ]
  },
  {
   "cell_type": "markdown",
   "metadata": {},
   "source": [
    "Now we will read in the 2-d embedding and annotation datasets."
   ]
  },
  {
   "cell_type": "code",
   "execution_count": null,
   "metadata": {},
   "outputs": [],
   "source": [
    "embedding_df = pd.read_csv(embedding_csv_path)\n",
    "annotation_df = pd.read_csv(annotation_csv_path)"
   ]
  },
  {
   "cell_type": "markdown",
   "metadata": {},
   "source": [
    "Next we merge the two dataframes and drop the second column used to merge on."
   ]
  },
  {
   "cell_type": "code",
   "execution_count": null,
   "metadata": {},
   "outputs": [],
   "source": [
    "# Merge the two dataframes based on the vggish_point and identification_number column\n",
    "merged = pd.merge(embedding_df, annotation_df, how='left', left_on='identification_number', right_on='vggish_point')\n",
    "merged_df = merged.drop(columns=['vggish_point'], axis = 1)\n",
    "merged_df.head()"
   ]
  },
  {
   "cell_type": "markdown",
   "metadata": {},
   "source": [
    "More datapoints take more time to plot. Here we check how much data will go into the graph. Feel free to limit it as desired."
   ]
  },
  {
   "cell_type": "code",
   "execution_count": null,
   "metadata": {},
   "outputs": [],
   "source": [
    "merged_df['label'].isna().sum()"
   ]
  },
  {
   "cell_type": "markdown",
   "metadata": {},
   "source": [
    "Finally, we set colors for each of the classes and generate the final scatterplot."
   ]
  },
  {
   "cell_type": "code",
   "execution_count": null,
   "metadata": {},
   "outputs": [],
   "source": [
    "# Function to generate a list of random bright colors\n",
    "def generate_bright_colors(num_colors):\n",
    "    # Define a list of bright colors\n",
    "    bright_colors = [\"#FF5733\", \"#FFBD33\", \"#33FF57\", \"#336DFF\", \"#FF33D5\", \"#FF3333\", \"#33FFF6\", \"#B233FF\", \"#FFBE33\", \"#FF33A7\", \"#B3FF33\", \"#5733FF\", \"#33FFD4\", \"#B23333\", \"#33B3FF\", \"#FF8A33\", \"#6D33FF\", \"#33FFB6\", \"#FF336D\", \"#FFC833\", \"#33FF7F\", \"#33A7FF\", \"#FF33B6\", \"#33FF8A\", \"#33FF33\", \"#33B6FF\", \"#D533FF\", \"#33FF33\", \"#8A33FF\", \"#FF338A\"]\n",
    "    # Shuffle the list of bright colors to ensure each category gets a distinct color\n",
    "    random.shuffle(bright_colors)\n",
    "    return bright_colors[:num_colors]\n",
    "\n",
    "# Get unique sounds and assign bright colors\n",
    "unique_sounds = merged_df['label'].unique()\n",
    "num_unique_sounds = len(unique_sounds)\n",
    "bright_colors = generate_bright_colors(num_unique_sounds)\n",
    "\n",
    "# Map sounds to their respective bright colors\n",
    "sound_colors = dict(zip(unique_sounds, bright_colors))\n",
    "\n",
    "# Replace NaN values with black\n",
    "colors = merged_df['label'].map(sound_colors)\n",
    "colors[merged_df['label'].isna()] = 'grey'\n",
    "\n",
    "# Define size and opacity for each color\n",
    "sizes = [2 if c == 'grey' else 5 for c in colors]\n",
    "opacities = [0.4 if c == 'grey' else 1 for c in colors]\n",
    "\n",
    "# Create legend entries\n",
    "legend_entries = []\n",
    "for sound, color in sound_colors.items():\n",
    "    legend_entries.append(go.Scatter(\n",
    "        x=[None],\n",
    "        y=[None],\n",
    "        mode='markers',\n",
    "        marker=dict(color=color),\n",
    "        showlegend=True,\n",
    "        name=sound\n",
    "    ))\n",
    "\n",
    "# Create main figure with scatter plot and legend entries\n",
    "f = go.FigureWidget([go.Scatter(\n",
    "    y=merged_df['y'],\n",
    "    x=merged_df['x'],\n",
    "    mode='markers',\n",
    "    marker=dict(size=sizes, color=colors, opacity=opacities, line=dict(color='rgba(0,0,0,0)')),\n",
    "    showlegend=False  # Don't show the legend for this trace\n",
    ")] + legend_entries)  # Include legend entries in the main figure\n",
    "\n",
    "# Update layout to display legend\n",
    "f.update_layout(\n",
    "    dragmode='lasso',\n",
    "    autosize=False,\n",
    "    width=1200,\n",
    "    height=800,\n",
    "    legend=dict(\n",
    "        title='Legend',\n",
    "        title_font_size=16,\n",
    "        font=dict(size=12),  # Set the font size of the legend text\n",
    "        traceorder='normal'  # Set the order of legend items\n",
    "    )\n",
    ")\n",
    "\n",
    "def update_axes(xaxis, yaxis):\n",
    "    scatter = f.data[0]\n",
    "    scatter.x = merged_df[xaxis]\n",
    "    scatter.y = merged_df[yaxis]\n",
    "    with f.batch_update():\n",
    "        f.layout.xaxis.title = xaxis\n",
    "        f.layout.yaxis.title = yaxis\n",
    "\n",
    "t = go.FigureWidget([go.Table(\n",
    "    header=dict(values=['identification_number', 'label'],\n",
    "                fill=dict(color='#C2D4FF'),\n",
    "                align=['left'] * 5),\n",
    "    cells=dict(values=[merged_df[col] for col in ['identification_number', 'label']],\n",
    "               fill=dict(color='#F5F8FF'),\n",
    "               align=['left'] * 5))])\n",
    "\n",
    "def selection_fn(trace, points, selector):\n",
    "    t.data[0].cells.values = [merged_df.loc[points.point_inds][col] for col in ['identification_number', 'label']]\n",
    "\n",
    "f.data[0].on_selection(selection_fn)\n",
    "\n",
    "# Display plot and table together\n",
    "VBox((f, t))"
   ]
  }
 ],
 "metadata": {
  "kernelspec": {
   "display_name": "base",
   "language": "python",
   "name": "python3"
  },
  "language_info": {
   "codemirror_mode": {
    "name": "ipython",
    "version": 3
   },
   "file_extension": ".py",
   "mimetype": "text/x-python",
   "name": "python",
   "nbconvert_exporter": "python",
   "pygments_lexer": "ipython3",
   "version": "3.11.8"
  }
 },
 "nbformat": 4,
 "nbformat_minor": 2
}
