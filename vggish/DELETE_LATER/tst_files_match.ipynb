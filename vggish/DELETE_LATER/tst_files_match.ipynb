{
 "cells": [
  {
   "cell_type": "markdown",
   "id": "e8763abc",
   "metadata": {},
   "source": [
    "## Purpose\n",
    "The purpose of this file is to:\n",
    "   1. Validate that csv files are reasonably == over time\n",
    "   2. Validate that csv have the right/expected # of rows"
   ]
  },
  {
   "cell_type": "code",
   "execution_count": 2,
   "id": "49ada5cc",
   "metadata": {},
   "outputs": [],
   "source": [
    "import pandas as pd\n",
    "import os"
   ]
  },
  {
   "cell_type": "code",
   "execution_count": 4,
   "id": "03a17cc5",
   "metadata": {},
   "outputs": [
    {
     "name": "stdout",
     "output_type": "stream",
     "text": [
      "181204-203002-437599-806141979.csv len 1872\n",
      "    The file should be 29:57.11999999999989.\n",
      "181209-083002-437599-806141979.csv len 1872\n",
      "    The file should be 29:57.11999999999989.\n",
      "181227-053002-437599-806141979.csv len 1872\n",
      "    The file should be 29:57.11999999999989.\n",
      "181227-100002-437599-806141979.csv len 1872\n",
      "    The file should be 29:57.11999999999989.\n"
     ]
    }
   ],
   "source": [
    "#Checking if the files are reasonably the same\n",
    "test_path = 'test_embed_data/'\n",
    "real_path = '../embedding_data/'\n",
    "\n",
    "#Iterating through real and test files\n",
    "file_list = [file for file in os.listdir(test_path)]\n",
    "for file in file_list:\n",
    "    test_file = pd.read_csv(test_path+file)\n",
    "    real_file = pd.read_csv(real_path+file)\n",
    "    \n",
    "    #Testing the length of the files\n",
    "    if len(test_file) != len(real_file):\n",
    "        print(\"Test file len {0} and real file len {1} not equal for {2}\".format(\n",
    "        len(test_file), len(real_file), file))\n",
    "    else:\n",
    "        pass\n",
    "\n",
    "    #Testing the contents of the files within small deviation (e.g., 0.01 consistency)\n",
    "    #Subtracting the embeddings from 1 another\n",
    "    #Seeing if any are > 0.000001 diff\n",
    "    sub_embed_df = test_file.iloc[:, 1:129] - real_file.iloc[:, 1:129]\n",
    "    big_delta = sub_embed_df\n",
    "    if ((big_delta == 0).all().all()):\n",
    "        pass\n",
    "    else:\n",
    "        print(\"FAILED delta check - >0 delta btw both files\")\n",
    "    \n",
    "    #Printing the # of rows in each file\n",
    "    print(\"{0} len {1}\".format(file, len(test_file)))\n",
    "    time = len(test_file)*0.96\n",
    "    time_m = int(time/60)\n",
    "    time_s = time%60\n",
    "    print(\"    The file should be {0}:{1}.\".format(time_m, time_s))"
   ]
  }
 ],
 "metadata": {
  "kernelspec": {
   "display_name": "Python 3 (ipykernel)",
   "language": "python",
   "name": "python3"
  },
  "language_info": {
   "codemirror_mode": {
    "name": "ipython",
    "version": 3
   },
   "file_extension": ".py",
   "mimetype": "text/x-python",
   "name": "python",
   "nbconvert_exporter": "python",
   "pygments_lexer": "ipython3",
   "version": "3.11.5"
  }
 },
 "nbformat": 4,
 "nbformat_minor": 5
}
