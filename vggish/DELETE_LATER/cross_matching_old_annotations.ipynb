{
 "cells": [
  {
   "cell_type": "markdown",
   "metadata": {},
   "source": [
    "The purpose of this code is to see where the \"missing\" vggish points went between the new and annotation mapping files."
   ]
  },
  {
   "cell_type": "code",
   "execution_count": 1,
   "metadata": {},
   "outputs": [],
   "source": [
    "#Library Imports\n",
    "import numpy as np\n",
    "import pandas as pd\n",
    "import json\n",
    "import os\n",
    "from os import listdir\n",
    "from os.path import isfile, join\n",
    "\n",
    "#File imports\n",
    "new_annotation_df = pd.read_csv('wav_to_annotation_new.csv')\n",
    "old_annotation_df = pd.read_csv('wav_to_annotation_old.csv')\n",
    "new_annotation_ceil = pd.read_csv('wav_to_annotation_new_ceil.csv')"
   ]
  },
  {
   "cell_type": "code",
   "execution_count": 2,
   "metadata": {},
   "outputs": [
    {
     "name": "stdout",
     "output_type": "stream",
     "text": [
      "12240\n",
      "15192\n",
      "15192\n"
     ]
    }
   ],
   "source": [
    "print(len(new_annotation_df))\n",
    "print(len(old_annotation_df))\n",
    "print(len(new_annotation_ceil))"
   ]
  },
  {
   "cell_type": "code",
   "execution_count": 3,
   "metadata": {},
   "outputs": [
    {
     "name": "stdout",
     "output_type": "stream",
     "text": [
      "2055 dupes old\n",
      "Total len no dupes old: 13137\n",
      "958 dupes new\n",
      "Total len no dupes new: 11282\n"
     ]
    }
   ],
   "source": [
    "#Were there dupe rows? Yes\n",
    "old_dupe_df = old_annotation_df[old_annotation_df.duplicated()]\n",
    "print(\"{0} dupes old\".format(len(old_dupe_df)))\n",
    "\n",
    "#Removing dupe rows\n",
    "old_unique = old_annotation_df.drop_duplicates()\n",
    "print(\"Total len no dupes old: {0}\".format(len(old_unique)))\n",
    "\n",
    "#Were there dupe rows? Yes\n",
    "new_dupe_df = new_annotation_df[new_annotation_df.duplicated()]\n",
    "print(\"{0} dupes new\".format(len(new_dupe_df)))\n",
    "\n",
    "#Removing dupe rows\n",
    "new_unique = new_annotation_df.drop_duplicates()\n",
    "print(\"Total len no dupes new: {0}\".format(len(new_unique)))"
   ]
  },
  {
   "cell_type": "code",
   "execution_count": 29,
   "metadata": {},
   "outputs": [
    {
     "data": {
      "text/plain": [
       "17645"
      ]
     },
     "execution_count": 29,
     "metadata": {},
     "output_type": "execute_result"
    }
   ],
   "source": [
    "#Bad merge with dupe rows - solve differently\n",
    "'''new_annotation_df['status'] = 'new'\n",
    "old_annotation_df['status'] = 'old'\n",
    "\n",
    "#which annotations are missing - ideally it's 1 per annotation image file\n",
    "mixed_annotations = pd.merge(left = old_annotation_df, right = new_annotation_df, how='left',\n",
    "                             on=['sound','image_name','vggish_point'], suffixes=('_old','_new'))\n",
    "len(mixed_annotations)\n",
    "\n",
    "mixed_annotations[mixed_annotations['status_new'].isnull()]'''"
   ]
  },
  {
   "cell_type": "code",
   "execution_count": 4,
   "metadata": {},
   "outputs": [
    {
     "name": "stdout",
     "output_type": "stream",
     "text": [
      "There were 11941 unique points in the old file.\n",
      "There are 10430 unique points in the new file.\n",
      "This is a delta of 1511 points.\n",
      "There are 11941 unique points in the new ceiling file.\n"
     ]
    }
   ],
   "source": [
    "#Testing if there are more or less unique points in each file\n",
    "#old file\n",
    "uniq_old_list = list(old_annotation_df['vggish_point'].unique())\n",
    "print(\"There were {0} unique points in the old file.\".format(len(uniq_old_list)))\n",
    "\n",
    "#new file\n",
    "uniq_new_list = list(new_annotation_df['vggish_point'].unique())\n",
    "print(\"There are {0} unique points in the new file.\".format(len(uniq_new_list)))\n",
    "print(\"This is a delta of {0} points.\".format(len(uniq_old_list)-len(uniq_new_list)))\n",
    "\n",
    "#Testing if ceiling the max examples makes up the difference in unique points\n",
    "uniq_new_ceil_list = list(new_annotation_ceil['vggish_point'].unique())\n",
    "print(\"There are {0} unique points in the new ceiling file.\".format(len(uniq_new_ceil_list)))"
   ]
  },
  {
   "cell_type": "code",
   "execution_count": 5,
   "metadata": {},
   "outputs": [
    {
     "name": "stderr",
     "output_type": "stream",
     "text": [
      "C:\\Users\\ekrol\\AppData\\Local\\Temp\\ipykernel_38736\\263465889.py:5: SettingWithCopyWarning: \n",
      "A value is trying to be set on a copy of a slice from a DataFrame.\n",
      "Try using .loc[row_indexer,col_indexer] = value instead\n",
      "\n",
      "See the caveats in the documentation: https://pandas.pydata.org/pandas-docs/stable/user_guide/indexing.html#returning-a-view-versus-a-copy\n",
      "  old_unique['status'] = 'old'\n",
      "C:\\Users\\ekrol\\AppData\\Local\\Temp\\ipykernel_38736\\263465889.py:6: SettingWithCopyWarning: \n",
      "A value is trying to be set on a copy of a slice from a DataFrame.\n",
      "Try using .loc[row_indexer,col_indexer] = value instead\n",
      "\n",
      "See the caveats in the documentation: https://pandas.pydata.org/pandas-docs/stable/user_guide/indexing.html#returning-a-view-versus-a-copy\n",
      "  new_ceil_unique['status'] = 'new_ceil'\n"
     ]
    },
    {
     "data": {
      "text/html": [
       "<div>\n",
       "<style scoped>\n",
       "    .dataframe tbody tr th:only-of-type {\n",
       "        vertical-align: middle;\n",
       "    }\n",
       "\n",
       "    .dataframe tbody tr th {\n",
       "        vertical-align: top;\n",
       "    }\n",
       "\n",
       "    .dataframe thead th {\n",
       "        text-align: right;\n",
       "    }\n",
       "</style>\n",
       "<table border=\"1\" class=\"dataframe\">\n",
       "  <thead>\n",
       "    <tr style=\"text-align: right;\">\n",
       "      <th></th>\n",
       "      <th>sound</th>\n",
       "      <th>image_name</th>\n",
       "      <th>vggish_point</th>\n",
       "      <th>status_x</th>\n",
       "      <th>status_y</th>\n",
       "    </tr>\n",
       "  </thead>\n",
       "  <tbody>\n",
       "  </tbody>\n",
       "</table>\n",
       "</div>"
      ],
      "text/plain": [
       "Empty DataFrame\n",
       "Columns: [sound, image_name, vggish_point, status_x, status_y]\n",
       "Index: []"
      ]
     },
     "execution_count": 5,
     "metadata": {},
     "output_type": "execute_result"
    }
   ],
   "source": [
    "#Seeing if we get a perfect match between the deduplicated old and deduplicated new ceiling files\n",
    "old_unique = old_annotation_df.drop_duplicates()\n",
    "new_ceil_unique = new_annotation_ceil.drop_duplicates()\n",
    "\n",
    "old_unique['status'] = 'old'\n",
    "new_ceil_unique['status'] = 'new_ceil'\n",
    "\n",
    "matching = pd.merge(left = old_unique, right = new_ceil_unique, how = 'left',\n",
    "                    on =['sound','image_name','vggish_point'])\n",
    "matching[matching.isnull().any(axis=1)] #yes, we get a perfect match"
   ]
  }
 ],
 "metadata": {
  "kernelspec": {
   "display_name": "vggish_environment",
   "language": "python",
   "name": "python3"
  },
  "language_info": {
   "codemirror_mode": {
    "name": "ipython",
    "version": 3
   },
   "file_extension": ".py",
   "mimetype": "text/x-python",
   "name": "python",
   "nbconvert_exporter": "python",
   "pygments_lexer": "ipython3",
   "version": "3.11.5"
  }
 },
 "nbformat": 4,
 "nbformat_minor": 2
}
