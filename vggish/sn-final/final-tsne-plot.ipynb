{
 "cells": [
  {
   "cell_type": "code",
   "execution_count": 1,
   "metadata": {},
   "outputs": [],
   "source": [
    "import pandas as pd"
   ]
  },
  {
   "cell_type": "code",
   "execution_count": 2,
   "metadata": {},
   "outputs": [
    {
     "data": {
      "text/html": [
       "<div>\n",
       "<style scoped>\n",
       "    .dataframe tbody tr th:only-of-type {\n",
       "        vertical-align: middle;\n",
       "    }\n",
       "\n",
       "    .dataframe tbody tr th {\n",
       "        vertical-align: top;\n",
       "    }\n",
       "\n",
       "    .dataframe thead th {\n",
       "        text-align: right;\n",
       "    }\n",
       "</style>\n",
       "<table border=\"1\" class=\"dataframe\">\n",
       "  <thead>\n",
       "    <tr style=\"text-align: right;\">\n",
       "      <th></th>\n",
       "      <th>identification_number</th>\n",
       "      <th>x</th>\n",
       "      <th>y</th>\n",
       "    </tr>\n",
       "  </thead>\n",
       "  <tbody>\n",
       "    <tr>\n",
       "      <th>0</th>\n",
       "      <td>5-0</td>\n",
       "      <td>39.650500</td>\n",
       "      <td>23.295845</td>\n",
       "    </tr>\n",
       "    <tr>\n",
       "      <th>1</th>\n",
       "      <td>5-134</td>\n",
       "      <td>15.620601</td>\n",
       "      <td>-12.035807</td>\n",
       "    </tr>\n",
       "    <tr>\n",
       "      <th>2</th>\n",
       "      <td>5-138</td>\n",
       "      <td>25.467508</td>\n",
       "      <td>-11.551829</td>\n",
       "    </tr>\n",
       "    <tr>\n",
       "      <th>3</th>\n",
       "      <td>7-0</td>\n",
       "      <td>38.799675</td>\n",
       "      <td>22.477068</td>\n",
       "    </tr>\n",
       "    <tr>\n",
       "      <th>4</th>\n",
       "      <td>7-216</td>\n",
       "      <td>-26.743486</td>\n",
       "      <td>-4.428862</td>\n",
       "    </tr>\n",
       "  </tbody>\n",
       "</table>\n",
       "</div>"
      ],
      "text/plain": [
       "  identification_number          x          y\n",
       "0                   5-0  39.650500  23.295845\n",
       "1                 5-134  15.620601 -12.035807\n",
       "2                 5-138  25.467508 -11.551829\n",
       "3                   7-0  38.799675  22.477068\n",
       "4                 7-216 -26.743486  -4.428862"
      ]
     },
     "execution_count": 2,
     "metadata": {},
     "output_type": "execute_result"
    }
   ],
   "source": [
    "df = pd.read_csv('/Users/saumya.nauni/Desktop/capstone/data/5-secs/tsne-data-5secs.csv')\n",
    "df.head()"
   ]
  },
  {
   "cell_type": "code",
   "execution_count": 3,
   "metadata": {},
   "outputs": [
    {
     "data": {
      "text/html": [
       "<div>\n",
       "<style scoped>\n",
       "    .dataframe tbody tr th:only-of-type {\n",
       "        vertical-align: middle;\n",
       "    }\n",
       "\n",
       "    .dataframe tbody tr th {\n",
       "        vertical-align: top;\n",
       "    }\n",
       "\n",
       "    .dataframe thead th {\n",
       "        text-align: right;\n",
       "    }\n",
       "</style>\n",
       "<table border=\"1\" class=\"dataframe\">\n",
       "  <thead>\n",
       "    <tr style=\"text-align: right;\">\n",
       "      <th></th>\n",
       "      <th>vggish_point</th>\n",
       "      <th>label</th>\n",
       "    </tr>\n",
       "  </thead>\n",
       "  <tbody>\n",
       "    <tr>\n",
       "      <th>0</th>\n",
       "      <td>100-0</td>\n",
       "      <td>calibration</td>\n",
       "    </tr>\n",
       "    <tr>\n",
       "      <th>1</th>\n",
       "      <td>100-314</td>\n",
       "      <td>humpback</td>\n",
       "    </tr>\n",
       "    <tr>\n",
       "      <th>2</th>\n",
       "      <td>100-315</td>\n",
       "      <td>humpback</td>\n",
       "    </tr>\n",
       "    <tr>\n",
       "      <th>3</th>\n",
       "      <td>100-316</td>\n",
       "      <td>humpback</td>\n",
       "    </tr>\n",
       "    <tr>\n",
       "      <th>4</th>\n",
       "      <td>1006-0</td>\n",
       "      <td>calibration</td>\n",
       "    </tr>\n",
       "  </tbody>\n",
       "</table>\n",
       "</div>"
      ],
      "text/plain": [
       "  vggish_point        label\n",
       "0        100-0  calibration\n",
       "1      100-314     humpback\n",
       "2      100-315     humpback\n",
       "3      100-316     humpback\n",
       "4       1006-0  calibration"
      ]
     },
     "execution_count": 3,
     "metadata": {},
     "output_type": "execute_result"
    }
   ],
   "source": [
    "ann = pd.read_csv('/Users/saumya.nauni/Desktop/capstone/data/5-secs/vggish_5_sec_comb_labels.csv')\n",
    "ann.head()"
   ]
  },
  {
   "cell_type": "code",
   "execution_count": 4,
   "metadata": {},
   "outputs": [
    {
     "data": {
      "text/html": [
       "<div>\n",
       "<style scoped>\n",
       "    .dataframe tbody tr th:only-of-type {\n",
       "        vertical-align: middle;\n",
       "    }\n",
       "\n",
       "    .dataframe tbody tr th {\n",
       "        vertical-align: top;\n",
       "    }\n",
       "\n",
       "    .dataframe thead th {\n",
       "        text-align: right;\n",
       "    }\n",
       "</style>\n",
       "<table border=\"1\" class=\"dataframe\">\n",
       "  <thead>\n",
       "    <tr style=\"text-align: right;\">\n",
       "      <th></th>\n",
       "      <th>identification_number</th>\n",
       "      <th>x</th>\n",
       "      <th>y</th>\n",
       "      <th>label</th>\n",
       "    </tr>\n",
       "  </thead>\n",
       "  <tbody>\n",
       "    <tr>\n",
       "      <th>0</th>\n",
       "      <td>5-0</td>\n",
       "      <td>39.650500</td>\n",
       "      <td>23.295845</td>\n",
       "      <td>calibration</td>\n",
       "    </tr>\n",
       "    <tr>\n",
       "      <th>1</th>\n",
       "      <td>5-134</td>\n",
       "      <td>15.620601</td>\n",
       "      <td>-12.035807</td>\n",
       "      <td>mooring</td>\n",
       "    </tr>\n",
       "    <tr>\n",
       "      <th>2</th>\n",
       "      <td>5-138</td>\n",
       "      <td>25.467508</td>\n",
       "      <td>-11.551829</td>\n",
       "      <td>mooring</td>\n",
       "    </tr>\n",
       "    <tr>\n",
       "      <th>3</th>\n",
       "      <td>7-0</td>\n",
       "      <td>38.799675</td>\n",
       "      <td>22.477068</td>\n",
       "      <td>calibration</td>\n",
       "    </tr>\n",
       "    <tr>\n",
       "      <th>4</th>\n",
       "      <td>7-216</td>\n",
       "      <td>-26.743486</td>\n",
       "      <td>-4.428862</td>\n",
       "      <td>humpback</td>\n",
       "    </tr>\n",
       "  </tbody>\n",
       "</table>\n",
       "</div>"
      ],
      "text/plain": [
       "  identification_number          x          y        label\n",
       "0                   5-0  39.650500  23.295845  calibration\n",
       "1                 5-134  15.620601 -12.035807      mooring\n",
       "2                 5-138  25.467508 -11.551829      mooring\n",
       "3                   7-0  38.799675  22.477068  calibration\n",
       "4                 7-216 -26.743486  -4.428862     humpback"
      ]
     },
     "execution_count": 4,
     "metadata": {},
     "output_type": "execute_result"
    }
   ],
   "source": [
    "# Merge the two dataframes based on the vggish_point and identification_number column\n",
    "merged = pd.merge(df, ann, how='left', left_on='identification_number', right_on='vggish_point')\n",
    "merged_df = merged.drop(columns=['vggish_point'], axis = 1)\n",
    "merged_df.head()"
   ]
  },
  {
   "cell_type": "code",
   "execution_count": 5,
   "metadata": {},
   "outputs": [
    {
     "data": {
      "text/plain": [
       "100000"
      ]
     },
     "execution_count": 5,
     "metadata": {},
     "output_type": "execute_result"
    }
   ],
   "source": [
    "merged_df['label'].isna().sum()"
   ]
  },
  {
   "cell_type": "code",
   "execution_count": 7,
   "metadata": {},
   "outputs": [
    {
     "name": "stderr",
     "output_type": "stream",
     "text": [
      "/Users/saumya.nauni/.local/lib/python3.9/site-packages/jupyter_client/session.py:718: UserWarning:\n",
      "\n",
      "Message serialization failed with:\n",
      "Out of range float values are not JSON compliant\n",
      "Supporting this message is deprecated in jupyter-client 7, please make sure your message is JSON-compliant\n",
      "\n"
     ]
    },
    {
     "data": {
      "application/vnd.jupyter.widget-view+json": {
       "model_id": "82943a24f7fd490fa2607c7027963ee4",
       "version_major": 2,
       "version_minor": 0
      },
      "text/plain": [
       "VBox(children=(FigureWidget({\n",
       "    'data': [{'marker': {'color': array(['#33FFF6', '#FFC833', '#FFC833', ..., '…"
      ]
     },
     "metadata": {},
     "output_type": "display_data"
    }
   ],
   "source": [
    "import plotly.graph_objs as go\n",
    "from ipywidgets import VBox\n",
    "import random\n",
    "\n",
    "# Function to generate a list of random bright colors\n",
    "def generate_bright_colors(num_colors):\n",
    "    # Define a list of bright colors\n",
    "    bright_colors = [\"#FF5733\", \"#FFBD33\", \"#33FF57\", \"#336DFF\", \"#FF33D5\", \"#FF3333\", \"#33FFF6\", \"#B233FF\", \"#FFBE33\", \"#FF33A7\", \"#B3FF33\", \"#5733FF\", \"#33FFD4\", \"#B23333\", \"#33B3FF\", \"#FF8A33\", \"#6D33FF\", \"#33FFB6\", \"#FF336D\", \"#FFC833\", \"#33FF7F\", \"#33A7FF\", \"#FF33B6\", \"#33FF8A\", \"#33FF33\", \"#33B6FF\", \"#D533FF\", \"#33FF33\", \"#8A33FF\", \"#FF338A\"]\n",
    "    # Shuffle the list of bright colors to ensure each category gets a distinct color\n",
    "    random.shuffle(bright_colors)\n",
    "    return bright_colors[:num_colors]\n",
    "\n",
    "# Get unique sounds and assign bright colors\n",
    "unique_sounds = merged_df['label'].unique()\n",
    "num_unique_sounds = len(unique_sounds)\n",
    "bright_colors = generate_bright_colors(num_unique_sounds)\n",
    "\n",
    "# Map sounds to their respective bright colors\n",
    "sound_colors = dict(zip(unique_sounds, bright_colors))\n",
    "\n",
    "# Replace NaN values with black\n",
    "colors = merged_df['label'].map(sound_colors)\n",
    "colors[merged_df['label'].isna()] = 'grey'\n",
    "\n",
    "# Define size and opacity for each color\n",
    "sizes = [2 if c == 'grey' else 5 for c in colors]\n",
    "opacities = [0.4 if c == 'grey' else 1 for c in colors]\n",
    "\n",
    "# Create legend entries\n",
    "legend_entries = []\n",
    "for sound, color in sound_colors.items():\n",
    "    legend_entries.append(go.Scatter(\n",
    "        x=[None],\n",
    "        y=[None],\n",
    "        mode='markers',\n",
    "        marker=dict(color=color),\n",
    "        showlegend=True,\n",
    "        name=sound\n",
    "    ))\n",
    "\n",
    "# Create main figure with scatter plot and legend entries\n",
    "f = go.FigureWidget([go.Scatter(\n",
    "    y=merged_df['y'],\n",
    "    x=merged_df['x'],\n",
    "    mode='markers',\n",
    "    marker=dict(size=sizes, color=colors, opacity=opacities, line=dict(color='rgba(0,0,0,0)')),\n",
    "    showlegend=False  # Don't show the legend for this trace\n",
    ")] + legend_entries)  # Include legend entries in the main figure\n",
    "\n",
    "# Update layout to display legend\n",
    "f.update_layout(\n",
    "    dragmode='lasso',\n",
    "    autosize=False,\n",
    "    width=1200,\n",
    "    height=800,\n",
    "    legend=dict(\n",
    "        title='Legend',\n",
    "        title_font_size=16,\n",
    "        font=dict(size=12),  # Set the font size of the legend text\n",
    "        traceorder='normal'  # Set the order of legend items\n",
    "    )\n",
    ")\n",
    "\n",
    "def update_axes(xaxis, yaxis):\n",
    "    scatter = f.data[0]\n",
    "    scatter.x = merged_df[xaxis]\n",
    "    scatter.y = merged_df[yaxis]\n",
    "    with f.batch_update():\n",
    "        f.layout.xaxis.title = xaxis\n",
    "        f.layout.yaxis.title = yaxis\n",
    "\n",
    "t = go.FigureWidget([go.Table(\n",
    "    header=dict(values=['identification_number', 'label'],\n",
    "                fill=dict(color='#C2D4FF'),\n",
    "                align=['left'] * 5),\n",
    "    cells=dict(values=[merged_df[col] for col in ['identification_number', 'label']],\n",
    "               fill=dict(color='#F5F8FF'),\n",
    "               align=['left'] * 5))])\n",
    "\n",
    "def selection_fn(trace, points, selector):\n",
    "    t.data[0].cells.values = [merged_df.loc[points.point_inds][col] for col in ['identification_number', 'label']]\n",
    "\n",
    "f.data[0].on_selection(selection_fn)\n",
    "\n",
    "# Display plot and table together\n",
    "VBox((f, t))"
   ]
  },
  {
   "cell_type": "code",
   "execution_count": null,
   "metadata": {},
   "outputs": [],
   "source": []
  }
 ],
 "metadata": {
  "kernelspec": {
   "display_name": "base",
   "language": "python",
   "name": "python3"
  },
  "language_info": {
   "codemirror_mode": {
    "name": "ipython",
    "version": 3
   },
   "file_extension": ".py",
   "mimetype": "text/x-python",
   "name": "python",
   "nbconvert_exporter": "python",
   "pygments_lexer": "ipython3",
   "version": "3.9.13"
  }
 },
 "nbformat": 4,
 "nbformat_minor": 2
}
