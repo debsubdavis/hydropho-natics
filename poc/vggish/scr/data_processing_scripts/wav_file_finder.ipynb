{
 "cells": [
  {
   "cell_type": "markdown",
   "id": "2032fb7c",
   "metadata": {},
   "source": [
    "## Purpose\n",
    "\n",
    "The purpose of this file is to process the image metadata files to identify their corresponding WAV files. Per the Metadata_file_finder script,\n",
    "\n",
    "We need to match the annotated spectrograms with the wav files that generated them. We have the \"image_name\" info, everything before the \".png\" (call it XX) will reference a file called XXMetadata. Inside that XXMetadata file there is a \"FileName\" which contains the raw title information which matches to the hydrophone recording title. As an example:\n",
    "\n",
    "    image_name: 20181204T100004-File-0.png\n",
    "    XX: 20181204T100004-File-0\n",
    "    Metadata file: 20181204T100004-File-0Metadata\n",
    "    FileName contained in the Metadata file: 181204-100002-437599-806141979_Spectrograms_20Hz.mat\n",
    "    Hydrophone recording name: 181204-100002-437599-806141979.wav\n",
    "\n",
    "We need those hydrophone recording names so we can make a list of ones we want to copy to our raw_data file for POC testing. What we will do in this script is iterate through the metadata files to get the FileNames, strip off the non-numerical part, and get the list of hydrophone recordings.\n",
    "\n",
    "We begin by importing some python libraries."
   ]
  },
  {
   "cell_type": "code",
   "execution_count": 3,
   "id": "051f4629",
   "metadata": {},
   "outputs": [],
   "source": [
    "#Imports\n",
    "import numpy as np\n",
    "import pandas as pd\n",
    "import json\n",
    "import os\n",
    "import matplotlib.pyplot as plt"
   ]
  },
  {
   "cell_type": "code",
   "execution_count": null,
   "id": "17fec533",
   "metadata": {},
   "outputs": [],
   "source": []
  },
  {
   "cell_type": "code",
   "execution_count": null,
   "id": "caaf15d4",
   "metadata": {},
   "outputs": [],
   "source": []
  },
  {
   "cell_type": "code",
   "execution_count": null,
   "id": "426918fd",
   "metadata": {},
   "outputs": [],
   "source": []
  }
 ],
 "metadata": {
  "kernelspec": {
   "display_name": "Python 3 (ipykernel)",
   "language": "python",
   "name": "python3"
  },
  "language_info": {
   "codemirror_mode": {
    "name": "ipython",
    "version": 3
   },
   "file_extension": ".py",
   "mimetype": "text/x-python",
   "name": "python",
   "nbconvert_exporter": "python",
   "pygments_lexer": "ipython3",
   "version": "3.11.5"
  }
 },
 "nbformat": 4,
 "nbformat_minor": 5
}
